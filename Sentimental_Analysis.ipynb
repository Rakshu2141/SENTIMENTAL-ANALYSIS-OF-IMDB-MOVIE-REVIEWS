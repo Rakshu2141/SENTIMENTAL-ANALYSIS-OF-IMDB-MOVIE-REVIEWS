{
  "cells": [
    {
      "cell_type": "markdown",
      "metadata": {
        "id": "-NPbgtcaa6fG"
      },
      "source": [
        "# Sentimental Analysis of IMDB Movie Reviews"
      ]
    },
    {
      "cell_type": "markdown",
      "metadata": {
        "id": "2VyfcJOZa6fV"
      },
      "source": [
        "### Problem Statement:"
      ]
    },
    {
      "cell_type": "markdown",
      "metadata": {
        "id": "DUC77g4Ea6fX"
      },
      "source": [
        "   **To classify the number of positive and negative reviews(documents) based on sentiments, using different classification models in ML.**"
      ]
    },
    {
      "cell_type": "markdown",
      "metadata": {
        "id": "4vK18FO-a6fZ"
      },
      "source": [
        "**Importing neccesary packages**"
      ]
    },
    {
      "cell_type": "code",
      "execution_count": null,
      "metadata": {
        "colab": {
          "base_uri": "https://localhost:8080/"
        },
        "id": "k6aySdhxp9Gn",
        "outputId": "141294b6-fa6d-4db8-ed87-61971afa80fa"
      },
      "outputs": [
        {
          "output_type": "stream",
          "name": "stderr",
          "text": [
            "[nltk_data] Downloading package stopwords to /root/nltk_data...\n",
            "[nltk_data]   Unzipping corpora/stopwords.zip.\n"
          ]
        }
      ],
      "source": [
        "#Load the libraries\n",
        "import numpy as np\n",
        "import pandas as pd\n",
        "import seaborn as sns\n",
        "import matplotlib.pyplot as plt\n",
        "import nltk\n",
        "from sklearn.feature_extraction.text import CountVectorizer\n",
        "from sklearn.feature_extraction.text import TfidfVectorizer\n",
        "from sklearn.preprocessing import LabelBinarizer\n",
        "from nltk.corpus import stopwords\n",
        "from nltk.stem.porter import PorterStemmer\n",
        "from wordcloud import WordCloud,STOPWORDS\n",
        "from nltk.stem import WordNetLemmatizer\n",
        "from nltk.tokenize import word_tokenize,sent_tokenize\n",
        "from bs4 import BeautifulSoup\n",
        "from nltk.sentiment import SentimentIntensityAnalyzer\n",
        "import spacy\n",
        "import re,string,unicodedata\n",
        "import nltk\n",
        "nltk.download('stopwords')\n",
        "from nltk.tokenize.toktok import ToktokTokenizer\n",
        "from nltk.stem import LancasterStemmer,WordNetLemmatizer\n",
        "from sklearn.linear_model import LogisticRegression,SGDClassifier\n",
        "from sklearn.naive_bayes import MultinomialNB\n",
        "from sklearn.svm import SVC\n",
        "from textblob import TextBlob\n",
        "from textblob import Word\n",
        "from sklearn.metrics import classification_report,confusion_matrix,accuracy_score\n",
        "\n",
        "import os\n",
        "import warnings\n",
        "warnings.filterwarnings('ignore')"
      ]
    },
    {
      "cell_type": "markdown",
      "metadata": {
        "id": "aZrB-0EBa6fk"
      },
      "source": [
        "**Importing the data**"
      ]
    },
    {
      "cell_type": "code",
      "execution_count": null,
      "metadata": {
        "id": "mJezHc3buIey"
      },
      "outputs": [],
      "source": [
        "imdb_data=pd.read_csv('/content/IMDB_dataset_320.000_reviews.csv')"
      ]
    },
    {
      "cell_type": "code",
      "execution_count": null,
      "metadata": {
        "id": "gcl5_8Fsqssu",
        "colab": {
          "base_uri": "https://localhost:8080/"
        },
        "outputId": "928d71a7-ee60-4ef6-b4f1-ee8e99b81086"
      },
      "outputs": [
        {
          "output_type": "stream",
          "name": "stdout",
          "text": [
            "(320747, 16)\n"
          ]
        }
      ],
      "source": [
        "print(imdb_data.shape)"
      ]
    },
    {
      "cell_type": "code",
      "execution_count": null,
      "metadata": {
        "id": "qKOt1WKUYIx9",
        "colab": {
          "base_uri": "https://localhost:8080/",
          "height": 450
        },
        "outputId": "02bec2b6-acf8-415f-fc59-a39f53dc2646"
      },
      "outputs": [
        {
          "output_type": "execute_result",
          "data": {
            "text/plain": [
              "   ID_Number   Greek_Title Original_Title Category Director/Creator  \\\n",
              "0          0  Lethal Games   Lethal Games   Action     John T. Bone   \n",
              "1          1      Lekin...       Lekin...    Drama           Gulzar   \n",
              "2          2      Lekin...       Lekin...    Drama           Gulzar   \n",
              "\n",
              "         Movie_Lenght Movie_Date           Author Review_Date  \\\n",
              "0   1 hour 23 minutes       1991   Leofwine_draca   09-Aug-16   \n",
              "1  2 hours 51 minutes       1990          cseabhi   10-Jul-21   \n",
              "2  2 hours 51 minutes       1990         abbott32   02-Jul-04   \n",
              "\n",
              "                                        Review_Title  \\\n",
              "0                                Worst of the worst    \n",
              "1             Lekin - Gulzar's haunting masterpiece    \n",
              "2   Haunting film but would love to have been abl...   \n",
              "\n",
              "                                              Review  Label  Mean_of_Stars  \\\n",
              "0  LETHAL GAMES is an absolutely awful attempt at...      1           1.00   \n",
              "1  Gulzar is at his best when he is telling such ...      9           9.16   \n",
              "2  I was completely mesmerized by Lekin and espec...      9           9.16   \n",
              "\n",
              "   Number_of_Reviews  Full_Reviews_Average_Stars  \\\n",
              "0                  1                         4.3   \n",
              "1                  6                         7.5   \n",
              "2                  6                         7.5   \n",
              "\n",
              "                                                 URL  \n",
              "0  https://www.imdb.com/title/tt00100009/?ref_=tt...  \n",
              "1  https://www.imdb.com/title/tt00100002/?ref_=tt...  \n",
              "2  https://www.imdb.com/title/tt00100002/?ref_=tt...  "
            ],
            "text/html": [
              "\n",
              "\n",
              "  <div id=\"df-f3f1cee9-9232-47c2-a29f-37eaee91515a\">\n",
              "    <div class=\"colab-df-container\">\n",
              "      <div>\n",
              "<style scoped>\n",
              "    .dataframe tbody tr th:only-of-type {\n",
              "        vertical-align: middle;\n",
              "    }\n",
              "\n",
              "    .dataframe tbody tr th {\n",
              "        vertical-align: top;\n",
              "    }\n",
              "\n",
              "    .dataframe thead th {\n",
              "        text-align: right;\n",
              "    }\n",
              "</style>\n",
              "<table border=\"1\" class=\"dataframe\">\n",
              "  <thead>\n",
              "    <tr style=\"text-align: right;\">\n",
              "      <th></th>\n",
              "      <th>ID_Number</th>\n",
              "      <th>Greek_Title</th>\n",
              "      <th>Original_Title</th>\n",
              "      <th>Category</th>\n",
              "      <th>Director/Creator</th>\n",
              "      <th>Movie_Lenght</th>\n",
              "      <th>Movie_Date</th>\n",
              "      <th>Author</th>\n",
              "      <th>Review_Date</th>\n",
              "      <th>Review_Title</th>\n",
              "      <th>Review</th>\n",
              "      <th>Label</th>\n",
              "      <th>Mean_of_Stars</th>\n",
              "      <th>Number_of_Reviews</th>\n",
              "      <th>Full_Reviews_Average_Stars</th>\n",
              "      <th>URL</th>\n",
              "    </tr>\n",
              "  </thead>\n",
              "  <tbody>\n",
              "    <tr>\n",
              "      <th>0</th>\n",
              "      <td>0</td>\n",
              "      <td>Lethal Games</td>\n",
              "      <td>Lethal Games</td>\n",
              "      <td>Action</td>\n",
              "      <td>John T. Bone</td>\n",
              "      <td>1 hour 23 minutes</td>\n",
              "      <td>1991</td>\n",
              "      <td>Leofwine_draca</td>\n",
              "      <td>09-Aug-16</td>\n",
              "      <td>Worst of the worst</td>\n",
              "      <td>LETHAL GAMES is an absolutely awful attempt at...</td>\n",
              "      <td>1</td>\n",
              "      <td>1.00</td>\n",
              "      <td>1</td>\n",
              "      <td>4.3</td>\n",
              "      <td>https://www.imdb.com/title/tt00100009/?ref_=tt...</td>\n",
              "    </tr>\n",
              "    <tr>\n",
              "      <th>1</th>\n",
              "      <td>1</td>\n",
              "      <td>Lekin...</td>\n",
              "      <td>Lekin...</td>\n",
              "      <td>Drama</td>\n",
              "      <td>Gulzar</td>\n",
              "      <td>2 hours 51 minutes</td>\n",
              "      <td>1990</td>\n",
              "      <td>cseabhi</td>\n",
              "      <td>10-Jul-21</td>\n",
              "      <td>Lekin - Gulzar's haunting masterpiece</td>\n",
              "      <td>Gulzar is at his best when he is telling such ...</td>\n",
              "      <td>9</td>\n",
              "      <td>9.16</td>\n",
              "      <td>6</td>\n",
              "      <td>7.5</td>\n",
              "      <td>https://www.imdb.com/title/tt00100002/?ref_=tt...</td>\n",
              "    </tr>\n",
              "    <tr>\n",
              "      <th>2</th>\n",
              "      <td>2</td>\n",
              "      <td>Lekin...</td>\n",
              "      <td>Lekin...</td>\n",
              "      <td>Drama</td>\n",
              "      <td>Gulzar</td>\n",
              "      <td>2 hours 51 minutes</td>\n",
              "      <td>1990</td>\n",
              "      <td>abbott32</td>\n",
              "      <td>02-Jul-04</td>\n",
              "      <td>Haunting film but would love to have been abl...</td>\n",
              "      <td>I was completely mesmerized by Lekin and espec...</td>\n",
              "      <td>9</td>\n",
              "      <td>9.16</td>\n",
              "      <td>6</td>\n",
              "      <td>7.5</td>\n",
              "      <td>https://www.imdb.com/title/tt00100002/?ref_=tt...</td>\n",
              "    </tr>\n",
              "  </tbody>\n",
              "</table>\n",
              "</div>\n",
              "      <button class=\"colab-df-convert\" onclick=\"convertToInteractive('df-f3f1cee9-9232-47c2-a29f-37eaee91515a')\"\n",
              "              title=\"Convert this dataframe to an interactive table.\"\n",
              "              style=\"display:none;\">\n",
              "\n",
              "  <svg xmlns=\"http://www.w3.org/2000/svg\" height=\"24px\"viewBox=\"0 0 24 24\"\n",
              "       width=\"24px\">\n",
              "    <path d=\"M0 0h24v24H0V0z\" fill=\"none\"/>\n",
              "    <path d=\"M18.56 5.44l.94 2.06.94-2.06 2.06-.94-2.06-.94-.94-2.06-.94 2.06-2.06.94zm-11 1L8.5 8.5l.94-2.06 2.06-.94-2.06-.94L8.5 2.5l-.94 2.06-2.06.94zm10 10l.94 2.06.94-2.06 2.06-.94-2.06-.94-.94-2.06-.94 2.06-2.06.94z\"/><path d=\"M17.41 7.96l-1.37-1.37c-.4-.4-.92-.59-1.43-.59-.52 0-1.04.2-1.43.59L10.3 9.45l-7.72 7.72c-.78.78-.78 2.05 0 2.83L4 21.41c.39.39.9.59 1.41.59.51 0 1.02-.2 1.41-.59l7.78-7.78 2.81-2.81c.8-.78.8-2.07 0-2.86zM5.41 20L4 18.59l7.72-7.72 1.47 1.35L5.41 20z\"/>\n",
              "  </svg>\n",
              "      </button>\n",
              "\n",
              "\n",
              "\n",
              "    <div id=\"df-02574d73-4248-422e-9509-3f169948dac8\">\n",
              "      <button class=\"colab-df-quickchart\" onclick=\"quickchart('df-02574d73-4248-422e-9509-3f169948dac8')\"\n",
              "              title=\"Suggest charts.\"\n",
              "              style=\"display:none;\">\n",
              "\n",
              "<svg xmlns=\"http://www.w3.org/2000/svg\" height=\"24px\"viewBox=\"0 0 24 24\"\n",
              "     width=\"24px\">\n",
              "    <g>\n",
              "        <path d=\"M19 3H5c-1.1 0-2 .9-2 2v14c0 1.1.9 2 2 2h14c1.1 0 2-.9 2-2V5c0-1.1-.9-2-2-2zM9 17H7v-7h2v7zm4 0h-2V7h2v10zm4 0h-2v-4h2v4z\"/>\n",
              "    </g>\n",
              "</svg>\n",
              "      </button>\n",
              "    </div>\n",
              "\n",
              "<style>\n",
              "  .colab-df-quickchart {\n",
              "    background-color: #E8F0FE;\n",
              "    border: none;\n",
              "    border-radius: 50%;\n",
              "    cursor: pointer;\n",
              "    display: none;\n",
              "    fill: #1967D2;\n",
              "    height: 32px;\n",
              "    padding: 0 0 0 0;\n",
              "    width: 32px;\n",
              "  }\n",
              "\n",
              "  .colab-df-quickchart:hover {\n",
              "    background-color: #E2EBFA;\n",
              "    box-shadow: 0px 1px 2px rgba(60, 64, 67, 0.3), 0px 1px 3px 1px rgba(60, 64, 67, 0.15);\n",
              "    fill: #174EA6;\n",
              "  }\n",
              "\n",
              "  [theme=dark] .colab-df-quickchart {\n",
              "    background-color: #3B4455;\n",
              "    fill: #D2E3FC;\n",
              "  }\n",
              "\n",
              "  [theme=dark] .colab-df-quickchart:hover {\n",
              "    background-color: #434B5C;\n",
              "    box-shadow: 0px 1px 3px 1px rgba(0, 0, 0, 0.15);\n",
              "    filter: drop-shadow(0px 1px 2px rgba(0, 0, 0, 0.3));\n",
              "    fill: #FFFFFF;\n",
              "  }\n",
              "</style>\n",
              "\n",
              "    <script>\n",
              "      async function quickchart(key) {\n",
              "        const containerElement = document.querySelector('#' + key);\n",
              "        const charts = await google.colab.kernel.invokeFunction(\n",
              "            'suggestCharts', [key], {});\n",
              "      }\n",
              "    </script>\n",
              "\n",
              "      <script>\n",
              "\n",
              "function displayQuickchartButton(domScope) {\n",
              "  let quickchartButtonEl =\n",
              "    domScope.querySelector('#df-02574d73-4248-422e-9509-3f169948dac8 button.colab-df-quickchart');\n",
              "  quickchartButtonEl.style.display =\n",
              "    google.colab.kernel.accessAllowed ? 'block' : 'none';\n",
              "}\n",
              "\n",
              "        displayQuickchartButton(document);\n",
              "      </script>\n",
              "      <style>\n",
              "    .colab-df-container {\n",
              "      display:flex;\n",
              "      flex-wrap:wrap;\n",
              "      gap: 12px;\n",
              "    }\n",
              "\n",
              "    .colab-df-convert {\n",
              "      background-color: #E8F0FE;\n",
              "      border: none;\n",
              "      border-radius: 50%;\n",
              "      cursor: pointer;\n",
              "      display: none;\n",
              "      fill: #1967D2;\n",
              "      height: 32px;\n",
              "      padding: 0 0 0 0;\n",
              "      width: 32px;\n",
              "    }\n",
              "\n",
              "    .colab-df-convert:hover {\n",
              "      background-color: #E2EBFA;\n",
              "      box-shadow: 0px 1px 2px rgba(60, 64, 67, 0.3), 0px 1px 3px 1px rgba(60, 64, 67, 0.15);\n",
              "      fill: #174EA6;\n",
              "    }\n",
              "\n",
              "    [theme=dark] .colab-df-convert {\n",
              "      background-color: #3B4455;\n",
              "      fill: #D2E3FC;\n",
              "    }\n",
              "\n",
              "    [theme=dark] .colab-df-convert:hover {\n",
              "      background-color: #434B5C;\n",
              "      box-shadow: 0px 1px 3px 1px rgba(0, 0, 0, 0.15);\n",
              "      filter: drop-shadow(0px 1px 2px rgba(0, 0, 0, 0.3));\n",
              "      fill: #FFFFFF;\n",
              "    }\n",
              "  </style>\n",
              "\n",
              "      <script>\n",
              "        const buttonEl =\n",
              "          document.querySelector('#df-f3f1cee9-9232-47c2-a29f-37eaee91515a button.colab-df-convert');\n",
              "        buttonEl.style.display =\n",
              "          google.colab.kernel.accessAllowed ? 'block' : 'none';\n",
              "\n",
              "        async function convertToInteractive(key) {\n",
              "          const element = document.querySelector('#df-f3f1cee9-9232-47c2-a29f-37eaee91515a');\n",
              "          const dataTable =\n",
              "            await google.colab.kernel.invokeFunction('convertToInteractive',\n",
              "                                                     [key], {});\n",
              "          if (!dataTable) return;\n",
              "\n",
              "          const docLinkHtml = 'Like what you see? Visit the ' +\n",
              "            '<a target=\"_blank\" href=https://colab.research.google.com/notebooks/data_table.ipynb>data table notebook</a>'\n",
              "            + ' to learn more about interactive tables.';\n",
              "          element.innerHTML = '';\n",
              "          dataTable['output_type'] = 'display_data';\n",
              "          await google.colab.output.renderOutput(dataTable, element);\n",
              "          const docLink = document.createElement('div');\n",
              "          docLink.innerHTML = docLinkHtml;\n",
              "          element.appendChild(docLink);\n",
              "        }\n",
              "      </script>\n",
              "    </div>\n",
              "  </div>\n"
            ]
          },
          "metadata": {},
          "execution_count": 4
        }
      ],
      "source": [
        "imdb_data.head(3)"
      ]
    },
    {
      "cell_type": "code",
      "source": [
        "imdb_data = imdb_data.head(50000)"
      ],
      "metadata": {
        "id": "3f1OIG9T5BXt"
      },
      "execution_count": null,
      "outputs": []
    },
    {
      "cell_type": "code",
      "execution_count": null,
      "metadata": {
        "id": "fvHOlB1sYFpz",
        "colab": {
          "base_uri": "https://localhost:8080/"
        },
        "outputId": "355bcbd5-06b7-4730-95a4-f627676c9abd"
      },
      "outputs": [
        {
          "output_type": "stream",
          "name": "stdout",
          "text": [
            "<class 'pandas.core.frame.DataFrame'>\n",
            "RangeIndex: 50000 entries, 0 to 49999\n",
            "Data columns (total 16 columns):\n",
            " #   Column                      Non-Null Count  Dtype  \n",
            "---  ------                      --------------  -----  \n",
            " 0   ID_Number                   50000 non-null  int64  \n",
            " 1   Greek_Title                 50000 non-null  object \n",
            " 2   Original_Title              50000 non-null  object \n",
            " 3   Category                    50000 non-null  object \n",
            " 4   Director/Creator            50000 non-null  object \n",
            " 5   Movie_Lenght                49709 non-null  object \n",
            " 6   Movie_Date                  50000 non-null  object \n",
            " 7   Author                      50000 non-null  object \n",
            " 8   Review_Date                 50000 non-null  object \n",
            " 9   Review_Title                50000 non-null  object \n",
            " 10  Review                      50000 non-null  object \n",
            " 11  Label                       50000 non-null  int64  \n",
            " 12  Mean_of_Stars               50000 non-null  float64\n",
            " 13  Number_of_Reviews           50000 non-null  int64  \n",
            " 14  Full_Reviews_Average_Stars  50000 non-null  float64\n",
            " 15  URL                         50000 non-null  object \n",
            "dtypes: float64(2), int64(3), object(11)\n",
            "memory usage: 6.1+ MB\n"
          ]
        }
      ],
      "source": [
        "imdb_data.info()"
      ]
    },
    {
      "cell_type": "markdown",
      "metadata": {
        "id": "ufuLj7o4a6fr"
      },
      "source": [
        "**Exploratory Data Analysis**"
      ]
    },
    {
      "cell_type": "code",
      "execution_count": null,
      "metadata": {
        "id": "RCaH6HUma6fs",
        "colab": {
          "base_uri": "https://localhost:8080/",
          "height": 300
        },
        "outputId": "de483b64-7b66-4483-b125-fc1f37debf4e"
      },
      "outputs": [
        {
          "output_type": "execute_result",
          "data": {
            "text/plain": [
              "          ID_Number         Label  Mean_of_Stars  Number_of_Reviews  \\\n",
              "count  50000.000000  50000.000000   50000.000000       50000.000000   \n",
              "mean   24999.500000      6.860560       6.860934          73.352260   \n",
              "std    14433.901067      2.670202       1.214293          61.022399   \n",
              "min        0.000000      1.000000       1.000000           1.000000   \n",
              "25%    12499.750000      5.000000       6.150000          20.000000   \n",
              "50%    24999.500000      7.000000       6.940000          57.000000   \n",
              "75%    37499.250000      9.000000       7.680000         118.000000   \n",
              "max    49999.000000     10.000000      10.000000         249.000000   \n",
              "\n",
              "       Full_Reviews_Average_Stars  \n",
              "count                50000.000000  \n",
              "mean                     6.421356  \n",
              "std                      1.125871  \n",
              "min                      1.800000  \n",
              "25%                      5.800000  \n",
              "50%                      6.600000  \n",
              "75%                      7.200000  \n",
              "max                      9.100000  "
            ],
            "text/html": [
              "\n",
              "\n",
              "  <div id=\"df-39ce4646-7af3-4c71-8b4b-704d13eb61e1\">\n",
              "    <div class=\"colab-df-container\">\n",
              "      <div>\n",
              "<style scoped>\n",
              "    .dataframe tbody tr th:only-of-type {\n",
              "        vertical-align: middle;\n",
              "    }\n",
              "\n",
              "    .dataframe tbody tr th {\n",
              "        vertical-align: top;\n",
              "    }\n",
              "\n",
              "    .dataframe thead th {\n",
              "        text-align: right;\n",
              "    }\n",
              "</style>\n",
              "<table border=\"1\" class=\"dataframe\">\n",
              "  <thead>\n",
              "    <tr style=\"text-align: right;\">\n",
              "      <th></th>\n",
              "      <th>ID_Number</th>\n",
              "      <th>Label</th>\n",
              "      <th>Mean_of_Stars</th>\n",
              "      <th>Number_of_Reviews</th>\n",
              "      <th>Full_Reviews_Average_Stars</th>\n",
              "    </tr>\n",
              "  </thead>\n",
              "  <tbody>\n",
              "    <tr>\n",
              "      <th>count</th>\n",
              "      <td>50000.000000</td>\n",
              "      <td>50000.000000</td>\n",
              "      <td>50000.000000</td>\n",
              "      <td>50000.000000</td>\n",
              "      <td>50000.000000</td>\n",
              "    </tr>\n",
              "    <tr>\n",
              "      <th>mean</th>\n",
              "      <td>24999.500000</td>\n",
              "      <td>6.860560</td>\n",
              "      <td>6.860934</td>\n",
              "      <td>73.352260</td>\n",
              "      <td>6.421356</td>\n",
              "    </tr>\n",
              "    <tr>\n",
              "      <th>std</th>\n",
              "      <td>14433.901067</td>\n",
              "      <td>2.670202</td>\n",
              "      <td>1.214293</td>\n",
              "      <td>61.022399</td>\n",
              "      <td>1.125871</td>\n",
              "    </tr>\n",
              "    <tr>\n",
              "      <th>min</th>\n",
              "      <td>0.000000</td>\n",
              "      <td>1.000000</td>\n",
              "      <td>1.000000</td>\n",
              "      <td>1.000000</td>\n",
              "      <td>1.800000</td>\n",
              "    </tr>\n",
              "    <tr>\n",
              "      <th>25%</th>\n",
              "      <td>12499.750000</td>\n",
              "      <td>5.000000</td>\n",
              "      <td>6.150000</td>\n",
              "      <td>20.000000</td>\n",
              "      <td>5.800000</td>\n",
              "    </tr>\n",
              "    <tr>\n",
              "      <th>50%</th>\n",
              "      <td>24999.500000</td>\n",
              "      <td>7.000000</td>\n",
              "      <td>6.940000</td>\n",
              "      <td>57.000000</td>\n",
              "      <td>6.600000</td>\n",
              "    </tr>\n",
              "    <tr>\n",
              "      <th>75%</th>\n",
              "      <td>37499.250000</td>\n",
              "      <td>9.000000</td>\n",
              "      <td>7.680000</td>\n",
              "      <td>118.000000</td>\n",
              "      <td>7.200000</td>\n",
              "    </tr>\n",
              "    <tr>\n",
              "      <th>max</th>\n",
              "      <td>49999.000000</td>\n",
              "      <td>10.000000</td>\n",
              "      <td>10.000000</td>\n",
              "      <td>249.000000</td>\n",
              "      <td>9.100000</td>\n",
              "    </tr>\n",
              "  </tbody>\n",
              "</table>\n",
              "</div>\n",
              "      <button class=\"colab-df-convert\" onclick=\"convertToInteractive('df-39ce4646-7af3-4c71-8b4b-704d13eb61e1')\"\n",
              "              title=\"Convert this dataframe to an interactive table.\"\n",
              "              style=\"display:none;\">\n",
              "\n",
              "  <svg xmlns=\"http://www.w3.org/2000/svg\" height=\"24px\"viewBox=\"0 0 24 24\"\n",
              "       width=\"24px\">\n",
              "    <path d=\"M0 0h24v24H0V0z\" fill=\"none\"/>\n",
              "    <path d=\"M18.56 5.44l.94 2.06.94-2.06 2.06-.94-2.06-.94-.94-2.06-.94 2.06-2.06.94zm-11 1L8.5 8.5l.94-2.06 2.06-.94-2.06-.94L8.5 2.5l-.94 2.06-2.06.94zm10 10l.94 2.06.94-2.06 2.06-.94-2.06-.94-.94-2.06-.94 2.06-2.06.94z\"/><path d=\"M17.41 7.96l-1.37-1.37c-.4-.4-.92-.59-1.43-.59-.52 0-1.04.2-1.43.59L10.3 9.45l-7.72 7.72c-.78.78-.78 2.05 0 2.83L4 21.41c.39.39.9.59 1.41.59.51 0 1.02-.2 1.41-.59l7.78-7.78 2.81-2.81c.8-.78.8-2.07 0-2.86zM5.41 20L4 18.59l7.72-7.72 1.47 1.35L5.41 20z\"/>\n",
              "  </svg>\n",
              "      </button>\n",
              "\n",
              "\n",
              "\n",
              "    <div id=\"df-80f1bd8c-105f-4f11-a371-b1d34bcc8013\">\n",
              "      <button class=\"colab-df-quickchart\" onclick=\"quickchart('df-80f1bd8c-105f-4f11-a371-b1d34bcc8013')\"\n",
              "              title=\"Suggest charts.\"\n",
              "              style=\"display:none;\">\n",
              "\n",
              "<svg xmlns=\"http://www.w3.org/2000/svg\" height=\"24px\"viewBox=\"0 0 24 24\"\n",
              "     width=\"24px\">\n",
              "    <g>\n",
              "        <path d=\"M19 3H5c-1.1 0-2 .9-2 2v14c0 1.1.9 2 2 2h14c1.1 0 2-.9 2-2V5c0-1.1-.9-2-2-2zM9 17H7v-7h2v7zm4 0h-2V7h2v10zm4 0h-2v-4h2v4z\"/>\n",
              "    </g>\n",
              "</svg>\n",
              "      </button>\n",
              "    </div>\n",
              "\n",
              "<style>\n",
              "  .colab-df-quickchart {\n",
              "    background-color: #E8F0FE;\n",
              "    border: none;\n",
              "    border-radius: 50%;\n",
              "    cursor: pointer;\n",
              "    display: none;\n",
              "    fill: #1967D2;\n",
              "    height: 32px;\n",
              "    padding: 0 0 0 0;\n",
              "    width: 32px;\n",
              "  }\n",
              "\n",
              "  .colab-df-quickchart:hover {\n",
              "    background-color: #E2EBFA;\n",
              "    box-shadow: 0px 1px 2px rgba(60, 64, 67, 0.3), 0px 1px 3px 1px rgba(60, 64, 67, 0.15);\n",
              "    fill: #174EA6;\n",
              "  }\n",
              "\n",
              "  [theme=dark] .colab-df-quickchart {\n",
              "    background-color: #3B4455;\n",
              "    fill: #D2E3FC;\n",
              "  }\n",
              "\n",
              "  [theme=dark] .colab-df-quickchart:hover {\n",
              "    background-color: #434B5C;\n",
              "    box-shadow: 0px 1px 3px 1px rgba(0, 0, 0, 0.15);\n",
              "    filter: drop-shadow(0px 1px 2px rgba(0, 0, 0, 0.3));\n",
              "    fill: #FFFFFF;\n",
              "  }\n",
              "</style>\n",
              "\n",
              "    <script>\n",
              "      async function quickchart(key) {\n",
              "        const containerElement = document.querySelector('#' + key);\n",
              "        const charts = await google.colab.kernel.invokeFunction(\n",
              "            'suggestCharts', [key], {});\n",
              "      }\n",
              "    </script>\n",
              "\n",
              "      <script>\n",
              "\n",
              "function displayQuickchartButton(domScope) {\n",
              "  let quickchartButtonEl =\n",
              "    domScope.querySelector('#df-80f1bd8c-105f-4f11-a371-b1d34bcc8013 button.colab-df-quickchart');\n",
              "  quickchartButtonEl.style.display =\n",
              "    google.colab.kernel.accessAllowed ? 'block' : 'none';\n",
              "}\n",
              "\n",
              "        displayQuickchartButton(document);\n",
              "      </script>\n",
              "      <style>\n",
              "    .colab-df-container {\n",
              "      display:flex;\n",
              "      flex-wrap:wrap;\n",
              "      gap: 12px;\n",
              "    }\n",
              "\n",
              "    .colab-df-convert {\n",
              "      background-color: #E8F0FE;\n",
              "      border: none;\n",
              "      border-radius: 50%;\n",
              "      cursor: pointer;\n",
              "      display: none;\n",
              "      fill: #1967D2;\n",
              "      height: 32px;\n",
              "      padding: 0 0 0 0;\n",
              "      width: 32px;\n",
              "    }\n",
              "\n",
              "    .colab-df-convert:hover {\n",
              "      background-color: #E2EBFA;\n",
              "      box-shadow: 0px 1px 2px rgba(60, 64, 67, 0.3), 0px 1px 3px 1px rgba(60, 64, 67, 0.15);\n",
              "      fill: #174EA6;\n",
              "    }\n",
              "\n",
              "    [theme=dark] .colab-df-convert {\n",
              "      background-color: #3B4455;\n",
              "      fill: #D2E3FC;\n",
              "    }\n",
              "\n",
              "    [theme=dark] .colab-df-convert:hover {\n",
              "      background-color: #434B5C;\n",
              "      box-shadow: 0px 1px 3px 1px rgba(0, 0, 0, 0.15);\n",
              "      filter: drop-shadow(0px 1px 2px rgba(0, 0, 0, 0.3));\n",
              "      fill: #FFFFFF;\n",
              "    }\n",
              "  </style>\n",
              "\n",
              "      <script>\n",
              "        const buttonEl =\n",
              "          document.querySelector('#df-39ce4646-7af3-4c71-8b4b-704d13eb61e1 button.colab-df-convert');\n",
              "        buttonEl.style.display =\n",
              "          google.colab.kernel.accessAllowed ? 'block' : 'none';\n",
              "\n",
              "        async function convertToInteractive(key) {\n",
              "          const element = document.querySelector('#df-39ce4646-7af3-4c71-8b4b-704d13eb61e1');\n",
              "          const dataTable =\n",
              "            await google.colab.kernel.invokeFunction('convertToInteractive',\n",
              "                                                     [key], {});\n",
              "          if (!dataTable) return;\n",
              "\n",
              "          const docLinkHtml = 'Like what you see? Visit the ' +\n",
              "            '<a target=\"_blank\" href=https://colab.research.google.com/notebooks/data_table.ipynb>data table notebook</a>'\n",
              "            + ' to learn more about interactive tables.';\n",
              "          element.innerHTML = '';\n",
              "          dataTable['output_type'] = 'display_data';\n",
              "          await google.colab.output.renderOutput(dataTable, element);\n",
              "          const docLink = document.createElement('div');\n",
              "          docLink.innerHTML = docLinkHtml;\n",
              "          element.appendChild(docLink);\n",
              "        }\n",
              "      </script>\n",
              "    </div>\n",
              "  </div>\n"
            ]
          },
          "metadata": {},
          "execution_count": 7
        }
      ],
      "source": [
        "#Summary of the dataset\n",
        "imdb_data.describe()"
      ]
    },
    {
      "cell_type": "code",
      "execution_count": null,
      "metadata": {
        "id": "AiBeDiqPqdfx",
        "colab": {
          "base_uri": "https://localhost:8080/"
        },
        "outputId": "69dbccbd-4efc-41af-f58a-d1e858f87015"
      },
      "outputs": [
        {
          "output_type": "stream",
          "name": "stdout",
          "text": [
            "Null Summary :\n",
            "ID_Number                       0\n",
            "Greek_Title                     0\n",
            "Original_Title                  0\n",
            "Category                        0\n",
            "Director/Creator                0\n",
            "Movie_Lenght                  291\n",
            "Movie_Date                      0\n",
            "Author                          0\n",
            "Review_Date                     0\n",
            "Review_Title                    0\n",
            "Review                          0\n",
            "Label                           0\n",
            "Mean_of_Stars                   0\n",
            "Number_of_Reviews               0\n",
            "Full_Reviews_Average_Stars      0\n",
            "URL                             0\n",
            "dtype: int64\n"
          ]
        }
      ],
      "source": [
        "#cleaning the data\n",
        "print('Null Summary :')\n",
        "print(imdb_data.isnull().sum())"
      ]
    },
    {
      "cell_type": "code",
      "execution_count": null,
      "metadata": {
        "id": "dEeAaPC20bSH",
        "colab": {
          "base_uri": "https://localhost:8080/"
        },
        "outputId": "defa2519-9ea9-4b3a-9f38-8870709d2d51"
      },
      "outputs": [
        {
          "output_type": "stream",
          "name": "stdout",
          "text": [
            "Total Duplicated Rows :  0\n"
          ]
        }
      ],
      "source": [
        "print('Total Duplicated Rows : ', imdb_data.duplicated().sum())"
      ]
    },
    {
      "cell_type": "code",
      "execution_count": null,
      "metadata": {
        "id": "m0dSlCUEGgtl",
        "colab": {
          "base_uri": "https://localhost:8080/"
        },
        "outputId": "f3330a87-8a58-4467-d670-49dd9f1f7e6a"
      },
      "outputs": [
        {
          "output_type": "stream",
          "name": "stdout",
          "text": [
            "708          Madonna: Blond Ambition World Tour Live\n",
            "25972                                      Solitaire\n",
            "3565                             Polly: Comin' Home!\n",
            "42682                        Our Hollywood Education\n",
            "16059                               The First Circle\n",
            "3554                                             PoV\n",
            "42050                           L'ambassade en folie\n",
            "26340                                Stop at Nothing\n",
            "42600                                Off His Rockers\n",
            "42216    The Nicholas Brothers: We Sing and We Dance\n",
            "Name: Original_Title, dtype: object\n"
          ]
        }
      ],
      "source": [
        "# Top 10 movies names.\n",
        "import matplotlib.pyplot as plt\n",
        "\n",
        "sorted_df = imdb_data.sort_values('Mean_of_Stars', ascending=False)\n",
        "top_10_movies = sorted_df['Original_Title'].head(20)\n",
        "\n",
        "# Remove duplicate movie titles\n",
        "top_10_movies_unique = top_10_movies.drop_duplicates()\n",
        "top_10_movies = top_10_movies_unique.head(10)\n",
        "\n",
        "print(top_10_movies)"
      ]
    },
    {
      "cell_type": "code",
      "execution_count": null,
      "metadata": {
        "id": "ipvZ1Mo0n7Mk",
        "colab": {
          "base_uri": "https://localhost:8080/",
          "height": 472
        },
        "outputId": "8665af02-e8de-4623-c5e1-c3305d32d396"
      },
      "outputs": [
        {
          "output_type": "display_data",
          "data": {
            "text/plain": [
              "<Figure size 640x480 with 1 Axes>"
            ],
            "image/png": "[encoded data removed]"
          },
          "metadata": {}
        }
      ],
      "source": [
        "# Reverse the order of the movie names\n",
        "top_10_movies = top_10_movies[::-1]\n",
        "\n",
        "# Create a bar plot\n",
        "plt.bar(range(10, 0, -1), top_10_movies)\n",
        "plt.ylabel('Movie Names')\n",
        "plt.xlabel('Rank')\n",
        "plt.title('Top 10 Movies by Mean of Stars')\n",
        "\n",
        "# Customize the x-axis ticks and labels\n",
        "plt.xticks(range(1, 11, 1), range(10, 0, -1))\n",
        "\n",
        "# Show the plot\n",
        "plt.show()"
      ]
    },
    {
      "cell_type": "code",
      "execution_count": null,
      "metadata": {
        "id": "P8iDEduxWs8M"
      },
      "outputs": [],
      "source": [
        "# Perform sentiment analysis on each comment\n",
        "imdb_data['Sentiment'] = imdb_data['Mean_of_Stars'].apply(lambda x: 'Positive' if x >= 6 else('Neutral' if x == 5  else 'Negative'))"
      ]
    },
    {
      "cell_type": "code",
      "execution_count": null,
      "metadata": {
        "id": "DftDAOJX1CmL"
      },
      "outputs": [],
      "source": [
        "imdb_data = imdb_data[['Original_Title','Category','Director/Creator','Review','Sentiment']]"
      ]
    },
    {
      "cell_type": "code",
      "execution_count": null,
      "metadata": {
        "id": "VxDRAvSdwyaG",
        "colab": {
          "base_uri": "https://localhost:8080/",
          "height": 143
        },
        "outputId": "fb6bfe6f-283d-4ffd-9d4b-2fa80ca77dd7"
      },
      "outputs": [
        {
          "output_type": "execute_result",
          "data": {
            "text/plain": [
              "  Original_Title Category Director/Creator  \\\n",
              "0   Lethal Games   Action     John T. Bone   \n",
              "1       Lekin...    Drama           Gulzar   \n",
              "2       Lekin...    Drama           Gulzar   \n",
              "\n",
              "                                              Review Sentiment  \n",
              "0  LETHAL GAMES is an absolutely awful attempt at...  Negative  \n",
              "1  Gulzar is at his best when he is telling such ...  Positive  \n",
              "2  I was completely mesmerized by Lekin and espec...  Positive  "
            ],
            "text/html": [
              "\n",
              "\n",
              "  <div id=\"df-fbeb18e7-3663-48dd-9bbe-97b5b981162b\">\n",
              "    <div class=\"colab-df-container\">\n",
              "      <div>\n",
              "<style scoped>\n",
              "    .dataframe tbody tr th:only-of-type {\n",
              "        vertical-align: middle;\n",
              "    }\n",
              "\n",
              "    .dataframe tbody tr th {\n",
              "        vertical-align: top;\n",
              "    }\n",
              "\n",
              "    .dataframe thead th {\n",
              "        text-align: right;\n",
              "    }\n",
              "</style>\n",
              "<table border=\"1\" class=\"dataframe\">\n",
              "  <thead>\n",
              "    <tr style=\"text-align: right;\">\n",
              "      <th></th>\n",
              "      <th>Original_Title</th>\n",
              "      <th>Category</th>\n",
              "      <th>Director/Creator</th>\n",
              "      <th>Review</th>\n",
              "      <th>Sentiment</th>\n",
              "    </tr>\n",
              "  </thead>\n",
              "  <tbody>\n",
              "    <tr>\n",
              "      <th>0</th>\n",
              "      <td>Lethal Games</td>\n",
              "      <td>Action</td>\n",
              "      <td>John T. Bone</td>\n",
              "      <td>LETHAL GAMES is an absolutely awful attempt at...</td>\n",
              "      <td>Negative</td>\n",
              "    </tr>\n",
              "    <tr>\n",
              "      <th>1</th>\n",
              "      <td>Lekin...</td>\n",
              "      <td>Drama</td>\n",
              "      <td>Gulzar</td>\n",
              "      <td>Gulzar is at his best when he is telling such ...</td>\n",
              "      <td>Positive</td>\n",
              "    </tr>\n",
              "    <tr>\n",
              "      <th>2</th>\n",
              "      <td>Lekin...</td>\n",
              "      <td>Drama</td>\n",
              "      <td>Gulzar</td>\n",
              "      <td>I was completely mesmerized by Lekin and espec...</td>\n",
              "      <td>Positive</td>\n",
              "    </tr>\n",
              "  </tbody>\n",
              "</table>\n",
              "</div>\n",
              "      <button class=\"colab-df-convert\" onclick=\"convertToInteractive('df-fbeb18e7-3663-48dd-9bbe-97b5b981162b')\"\n",
              "              title=\"Convert this dataframe to an interactive table.\"\n",
              "              style=\"display:none;\">\n",
              "\n",
              "  <svg xmlns=\"http://www.w3.org/2000/svg\" height=\"24px\"viewBox=\"0 0 24 24\"\n",
              "       width=\"24px\">\n",
              "    <path d=\"M0 0h24v24H0V0z\" fill=\"none\"/>\n",
              "    <path d=\"M18.56 5.44l.94 2.06.94-2.06 2.06-.94-2.06-.94-.94-2.06-.94 2.06-2.06.94zm-11 1L8.5 8.5l.94-2.06 2.06-.94-2.06-.94L8.5 2.5l-.94 2.06-2.06.94zm10 10l.94 2.06.94-2.06 2.06-.94-2.06-.94-.94-2.06-.94 2.06-2.06.94z\"/><path d=\"M17.41 7.96l-1.37-1.37c-.4-.4-.92-.59-1.43-.59-.52 0-1.04.2-1.43.59L10.3 9.45l-7.72 7.72c-.78.78-.78 2.05 0 2.83L4 21.41c.39.39.9.59 1.41.59.51 0 1.02-.2 1.41-.59l7.78-7.78 2.81-2.81c.8-.78.8-2.07 0-2.86zM5.41 20L4 18.59l7.72-7.72 1.47 1.35L5.41 20z\"/>\n",
              "  </svg>\n",
              "      </button>\n",
              "\n",
              "\n",
              "\n",
              "    <div id=\"df-242226bf-8548-4ff8-bd75-c65266cd4744\">\n",
              "      <button class=\"colab-df-quickchart\" onclick=\"quickchart('df-242226bf-8548-4ff8-bd75-c65266cd4744')\"\n",
              "              title=\"Suggest charts.\"\n",
              "              style=\"display:none;\">\n",
              "\n",
              "<svg xmlns=\"http://www.w3.org/2000/svg\" height=\"24px\"viewBox=\"0 0 24 24\"\n",
              "     width=\"24px\">\n",
              "    <g>\n",
              "        <path d=\"M19 3H5c-1.1 0-2 .9-2 2v14c0 1.1.9 2 2 2h14c1.1 0 2-.9 2-2V5c0-1.1-.9-2-2-2zM9 17H7v-7h2v7zm4 0h-2V7h2v10zm4 0h-2v-4h2v4z\"/>\n",
              "    </g>\n",
              "</svg>\n",
              "      </button>\n",
              "    </div>\n",
              "\n",
              "<style>\n",
              "  .colab-df-quickchart {\n",
              "    background-color: #E8F0FE;\n",
              "    border: none;\n",
              "    border-radius: 50%;\n",
              "    cursor: pointer;\n",
              "    display: none;\n",
              "    fill: #1967D2;\n",
              "    height: 32px;\n",
              "    padding: 0 0 0 0;\n",
              "    width: 32px;\n",
              "  }\n",
              "\n",
              "  .colab-df-quickchart:hover {\n",
              "    background-color: #E2EBFA;\n",
              "    box-shadow: 0px 1px 2px rgba(60, 64, 67, 0.3), 0px 1px 3px 1px rgba(60, 64, 67, 0.15);\n",
              "    fill: #174EA6;\n",
              "  }\n",
              "\n",
              "  [theme=dark] .colab-df-quickchart {\n",
              "    background-color: #3B4455;\n",
              "    fill: #D2E3FC;\n",
              "  }\n",
              "\n",
              "  [theme=dark] .colab-df-quickchart:hover {\n",
              "    background-color: #434B5C;\n",
              "    box-shadow: 0px 1px 3px 1px rgba(0, 0, 0, 0.15);\n",
              "    filter: drop-shadow(0px 1px 2px rgba(0, 0, 0, 0.3));\n",
              "    fill: #FFFFFF;\n",
              "  }\n",
              "</style>\n",
              "\n",
              "    <script>\n",
              "      async function quickchart(key) {\n",
              "        const containerElement = document.querySelector('#' + key);\n",
              "        const charts = await google.colab.kernel.invokeFunction(\n",
              "            'suggestCharts', [key], {});\n",
              "      }\n",
              "    </script>\n",
              "\n",
              "      <script>\n",
              "\n",
              "function displayQuickchartButton(domScope) {\n",
              "  let quickchartButtonEl =\n",
              "    domScope.querySelector('#df-242226bf-8548-4ff8-bd75-c65266cd4744 button.colab-df-quickchart');\n",
              "  quickchartButtonEl.style.display =\n",
              "    google.colab.kernel.accessAllowed ? 'block' : 'none';\n",
              "}\n",
              "\n",
              "        displayQuickchartButton(document);\n",
              "      </script>\n",
              "      <style>\n",
              "    .colab-df-container {\n",
              "      display:flex;\n",
              "      flex-wrap:wrap;\n",
              "      gap: 12px;\n",
              "    }\n",
              "\n",
              "    .colab-df-convert {\n",
              "      background-color: #E8F0FE;\n",
              "      border: none;\n",
              "      border-radius: 50%;\n",
              "      cursor: pointer;\n",
              "      display: none;\n",
              "      fill: #1967D2;\n",
              "      height: 32px;\n",
              "      padding: 0 0 0 0;\n",
              "      width: 32px;\n",
              "    }\n",
              "\n",
              "    .colab-df-convert:hover {\n",
              "      background-color: #E2EBFA;\n",
              "      box-shadow: 0px 1px 2px rgba(60, 64, 67, 0.3), 0px 1px 3px 1px rgba(60, 64, 67, 0.15);\n",
              "      fill: #174EA6;\n",
              "    }\n",
              "\n",
              "    [theme=dark] .colab-df-convert {\n",
              "      background-color: #3B4455;\n",
              "      fill: #D2E3FC;\n",
              "    }\n",
              "\n",
              "    [theme=dark] .colab-df-convert:hover {\n",
              "      background-color: #434B5C;\n",
              "      box-shadow: 0px 1px 3px 1px rgba(0, 0, 0, 0.15);\n",
              "      filter: drop-shadow(0px 1px 2px rgba(0, 0, 0, 0.3));\n",
              "      fill: #FFFFFF;\n",
              "    }\n",
              "  </style>\n",
              "\n",
              "      <script>\n",
              "        const buttonEl =\n",
              "          document.querySelector('#df-fbeb18e7-3663-48dd-9bbe-97b5b981162b button.colab-df-convert');\n",
              "        buttonEl.style.display =\n",
              "          google.colab.kernel.accessAllowed ? 'block' : 'none';\n",
              "\n",
              "        async function convertToInteractive(key) {\n",
              "          const element = document.querySelector('#df-fbeb18e7-3663-48dd-9bbe-97b5b981162b');\n",
              "          const dataTable =\n",
              "            await google.colab.kernel.invokeFunction('convertToInteractive',\n",
              "                                                     [key], {});\n",
              "          if (!dataTable) return;\n",
              "\n",
              "          const docLinkHtml = 'Like what you see? Visit the ' +\n",
              "            '<a target=\"_blank\" href=https://colab.research.google.com/notebooks/data_table.ipynb>data table notebook</a>'\n",
              "            + ' to learn more about interactive tables.';\n",
              "          element.innerHTML = '';\n",
              "          dataTable['output_type'] = 'display_data';\n",
              "          await google.colab.output.renderOutput(dataTable, element);\n",
              "          const docLink = document.createElement('div');\n",
              "          docLink.innerHTML = docLinkHtml;\n",
              "          element.appendChild(docLink);\n",
              "        }\n",
              "      </script>\n",
              "    </div>\n",
              "  </div>\n"
            ]
          },
          "metadata": {},
          "execution_count": 14
        }
      ],
      "source": [
        "imdb_data.head(3)"
      ]
    },
    {
      "cell_type": "code",
      "execution_count": null,
      "metadata": {
        "id": "d3jjziIG2u65",
        "colab": {
          "base_uri": "https://localhost:8080/",
          "height": 480
        },
        "outputId": "88585ce7-abd2-4100-aa4c-13b5efdd0ad5"
      },
      "outputs": [
        {
          "output_type": "display_data",
          "data": {
            "text/plain": [
              "<Figure size 640x480 with 1 Axes>"
            ],
            "image/png": "[encoded data removed]"
          },
          "metadata": {}
        }
      ],
      "source": [
        "#sentiment count\n",
        "imdb_data['Sentiment'].value_counts()\n",
        "ax = sns.countplot(data = imdb_data, x ='Sentiment')\n",
        "ax.set_title('Reviews and Sentiments', fontsize=20)\n",
        "for p in ax.patches:\n",
        "        ax.annotate('{:}'.format(p.get_height()), (p.get_x()+0.15, p.get_height()+1))"
      ]
    },
    {
      "cell_type": "markdown",
      "metadata": {
        "id": "ZU-Zt0aCa6fx"
      },
      "source": [
        "**Splitting the dataset**"
      ]
    },
    {
      "cell_type": "code",
      "execution_count": null,
      "metadata": {
        "id": "0P7aYByz21tj",
        "colab": {
          "base_uri": "https://localhost:8080/"
        },
        "outputId": "fe8ad5db-3987-4b5b-99c7-1df5f68f1cd8"
      },
      "outputs": [
        {
          "output_type": "stream",
          "name": "stdout",
          "text": [
            "(40000,) (40000,)\n",
            "(9999,) (9999,)\n"
          ]
        }
      ],
      "source": [
        "#train dataset\n",
        "train_reviews=imdb_data.Review[:40000]\n",
        "train_sentiments=imdb_data.Sentiment[:40000]\n",
        "#test dataset\n",
        "test_reviews=imdb_data.Review[40001:50000]\n",
        "test_sentiments=imdb_data.Sentiment[40001:50000]\n",
        "print(train_reviews.shape,train_sentiments.shape)\n",
        "print(test_reviews.shape,test_sentiments.shape)"
      ]
    },
    {
      "cell_type": "markdown",
      "metadata": {
        "id": "mwNih4j7a6fz"
      },
      "source": [
        "### Data Mining Techniques"
      ]
    },
    {
      "cell_type": "code",
      "execution_count": null,
      "metadata": {
        "id": "vW8jppjMfB-M"
      },
      "outputs": [],
      "source": [
        "# imdb_data = imdb_data.head(50000)"
      ]
    },
    {
      "cell_type": "markdown",
      "metadata": {
        "id": "ypY63eayVThM"
      },
      "source": [
        "**1. Cleaning the text**"
      ]
    },
    {
      "cell_type": "markdown",
      "metadata": {
        "id": "_ekylWlEa6f1"
      },
      "source": [
        "**Removing html strips and noise text**"
      ]
    },
    {
      "cell_type": "code",
      "execution_count": null,
      "metadata": {
        "id": "4cDwbUTVa6f5"
      },
      "outputs": [],
      "source": [
        "from bs4 import BeautifulSoup\n",
        "import re,string,unicodedata\n",
        "\n",
        "#Removing the html strips\n",
        "def strip_html(text):\n",
        "    soup = BeautifulSoup(text, \"html.parser\")\n",
        "    return soup.get_text()\n",
        "\n",
        "#Removing the square brackets\n",
        "def remove_between_square_brackets(text):\n",
        "    return re.sub(\"'\\[[^]]*\\]'\", '', text)\n",
        "\n",
        "#Removing the noisy text\n",
        "def denoise_text(text):\n",
        "    text = strip_html(text)\n",
        "    text = remove_between_square_brackets(text)\n",
        "    return text\n",
        "\n",
        "#Apply function on review column\n",
        "imdb_data['Review']=imdb_data['Review'].apply(denoise_text)"
      ]
    },
    {
      "cell_type": "code",
      "execution_count": null,
      "metadata": {
        "id": "AuUQOwVfWfjw",
        "colab": {
          "base_uri": "https://localhost:8080/",
          "height": 143
        },
        "outputId": "ba3a9e6b-b9fe-4f8f-a72a-a8a65e600f53"
      },
      "outputs": [
        {
          "output_type": "execute_result",
          "data": {
            "text/plain": [
              "                                              Review Sentiment\n",
              "0  LETHAL GAMES is an absolutely awful attempt at...  Negative\n",
              "1  Gulzar is at his best when he is telling such ...  Positive\n",
              "2  I was completely mesmerized by Lekin and espec...  Positive"
            ],
            "text/html": [
              "\n",
              "\n",
              "  <div id=\"df-ce0da324-eeae-4c77-ab17-cd43be12f467\">\n",
              "    <div class=\"colab-df-container\">\n",
              "      <div>\n",
              "<style scoped>\n",
              "    .dataframe tbody tr th:only-of-type {\n",
              "        vertical-align: middle;\n",
              "    }\n",
              "\n",
              "    .dataframe tbody tr th {\n",
              "        vertical-align: top;\n",
              "    }\n",
              "\n",
              "    .dataframe thead th {\n",
              "        text-align: right;\n",
              "    }\n",
              "</style>\n",
              "<table border=\"1\" class=\"dataframe\">\n",
              "  <thead>\n",
              "    <tr style=\"text-align: right;\">\n",
              "      <th></th>\n",
              "      <th>Review</th>\n",
              "      <th>Sentiment</th>\n",
              "    </tr>\n",
              "  </thead>\n",
              "  <tbody>\n",
              "    <tr>\n",
              "      <th>0</th>\n",
              "      <td>LETHAL GAMES is an absolutely awful attempt at...</td>\n",
              "      <td>Negative</td>\n",
              "    </tr>\n",
              "    <tr>\n",
              "      <th>1</th>\n",
              "      <td>Gulzar is at his best when he is telling such ...</td>\n",
              "      <td>Positive</td>\n",
              "    </tr>\n",
              "    <tr>\n",
              "      <th>2</th>\n",
              "      <td>I was completely mesmerized by Lekin and espec...</td>\n",
              "      <td>Positive</td>\n",
              "    </tr>\n",
              "  </tbody>\n",
              "</table>\n",
              "</div>\n",
              "      <button class=\"colab-df-convert\" onclick=\"convertToInteractive('df-ce0da324-eeae-4c77-ab17-cd43be12f467')\"\n",
              "              title=\"Convert this dataframe to an interactive table.\"\n",
              "              style=\"display:none;\">\n",
              "\n",
              "  <svg xmlns=\"http://www.w3.org/2000/svg\" height=\"24px\"viewBox=\"0 0 24 24\"\n",
              "       width=\"24px\">\n",
              "    <path d=\"M0 0h24v24H0V0z\" fill=\"none\"/>\n",
              "    <path d=\"M18.56 5.44l.94 2.06.94-2.06 2.06-.94-2.06-.94-.94-2.06-.94 2.06-2.06.94zm-11 1L8.5 8.5l.94-2.06 2.06-.94-2.06-.94L8.5 2.5l-.94 2.06-2.06.94zm10 10l.94 2.06.94-2.06 2.06-.94-2.06-.94-.94-2.06-.94 2.06-2.06.94z\"/><path d=\"M17.41 7.96l-1.37-1.37c-.4-.4-.92-.59-1.43-.59-.52 0-1.04.2-1.43.59L10.3 9.45l-7.72 7.72c-.78.78-.78 2.05 0 2.83L4 21.41c.39.39.9.59 1.41.59.51 0 1.02-.2 1.41-.59l7.78-7.78 2.81-2.81c.8-.78.8-2.07 0-2.86zM5.41 20L4 18.59l7.72-7.72 1.47 1.35L5.41 20z\"/>\n",
              "  </svg>\n",
              "      </button>\n",
              "\n",
              "\n",
              "\n",
              "    <div id=\"df-cc46add5-b9ce-4def-ade1-6274661cd204\">\n",
              "      <button class=\"colab-df-quickchart\" onclick=\"quickchart('df-cc46add5-b9ce-4def-ade1-6274661cd204')\"\n",
              "              title=\"Suggest charts.\"\n",
              "              style=\"display:none;\">\n",
              "\n",
              "<svg xmlns=\"http://www.w3.org/2000/svg\" height=\"24px\"viewBox=\"0 0 24 24\"\n",
              "     width=\"24px\">\n",
              "    <g>\n",
              "        <path d=\"M19 3H5c-1.1 0-2 .9-2 2v14c0 1.1.9 2 2 2h14c1.1 0 2-.9 2-2V5c0-1.1-.9-2-2-2zM9 17H7v-7h2v7zm4 0h-2V7h2v10zm4 0h-2v-4h2v4z\"/>\n",
              "    </g>\n",
              "</svg>\n",
              "      </button>\n",
              "    </div>\n",
              "\n",
              "<style>\n",
              "  .colab-df-quickchart {\n",
              "    background-color: #E8F0FE;\n",
              "    border: none;\n",
              "    border-radius: 50%;\n",
              "    cursor: pointer;\n",
              "    display: none;\n",
              "    fill: #1967D2;\n",
              "    height: 32px;\n",
              "    padding: 0 0 0 0;\n",
              "    width: 32px;\n",
              "  }\n",
              "\n",
              "  .colab-df-quickchart:hover {\n",
              "    background-color: #E2EBFA;\n",
              "    box-shadow: 0px 1px 2px rgba(60, 64, 67, 0.3), 0px 1px 3px 1px rgba(60, 64, 67, 0.15);\n",
              "    fill: #174EA6;\n",
              "  }\n",
              "\n",
              "  [theme=dark] .colab-df-quickchart {\n",
              "    background-color: #3B4455;\n",
              "    fill: #D2E3FC;\n",
              "  }\n",
              "\n",
              "  [theme=dark] .colab-df-quickchart:hover {\n",
              "    background-color: #434B5C;\n",
              "    box-shadow: 0px 1px 3px 1px rgba(0, 0, 0, 0.15);\n",
              "    filter: drop-shadow(0px 1px 2px rgba(0, 0, 0, 0.3));\n",
              "    fill: #FFFFFF;\n",
              "  }\n",
              "</style>\n",
              "\n",
              "    <script>\n",
              "      async function quickchart(key) {\n",
              "        const containerElement = document.querySelector('#' + key);\n",
              "        const charts = await google.colab.kernel.invokeFunction(\n",
              "            'suggestCharts', [key], {});\n",
              "      }\n",
              "    </script>\n",
              "\n",
              "      <script>\n",
              "\n",
              "function displayQuickchartButton(domScope) {\n",
              "  let quickchartButtonEl =\n",
              "    domScope.querySelector('#df-cc46add5-b9ce-4def-ade1-6274661cd204 button.colab-df-quickchart');\n",
              "  quickchartButtonEl.style.display =\n",
              "    google.colab.kernel.accessAllowed ? 'block' : 'none';\n",
              "}\n",
              "\n",
              "        displayQuickchartButton(document);\n",
              "      </script>\n",
              "      <style>\n",
              "    .colab-df-container {\n",
              "      display:flex;\n",
              "      flex-wrap:wrap;\n",
              "      gap: 12px;\n",
              "    }\n",
              "\n",
              "    .colab-df-convert {\n",
              "      background-color: #E8F0FE;\n",
              "      border: none;\n",
              "      border-radius: 50%;\n",
              "      cursor: pointer;\n",
              "      display: none;\n",
              "      fill: #1967D2;\n",
              "      height: 32px;\n",
              "      padding: 0 0 0 0;\n",
              "      width: 32px;\n",
              "    }\n",
              "\n",
              "    .colab-df-convert:hover {\n",
              "      background-color: #E2EBFA;\n",
              "      box-shadow: 0px 1px 2px rgba(60, 64, 67, 0.3), 0px 1px 3px 1px rgba(60, 64, 67, 0.15);\n",
              "      fill: #174EA6;\n",
              "    }\n",
              "\n",
              "    [theme=dark] .colab-df-convert {\n",
              "      background-color: #3B4455;\n",
              "      fill: #D2E3FC;\n",
              "    }\n",
              "\n",
              "    [theme=dark] .colab-df-convert:hover {\n",
              "      background-color: #434B5C;\n",
              "      box-shadow: 0px 1px 3px 1px rgba(0, 0, 0, 0.15);\n",
              "      filter: drop-shadow(0px 1px 2px rgba(0, 0, 0, 0.3));\n",
              "      fill: #FFFFFF;\n",
              "    }\n",
              "  </style>\n",
              "\n",
              "      <script>\n",
              "        const buttonEl =\n",
              "          document.querySelector('#df-ce0da324-eeae-4c77-ab17-cd43be12f467 button.colab-df-convert');\n",
              "        buttonEl.style.display =\n",
              "          google.colab.kernel.accessAllowed ? 'block' : 'none';\n",
              "\n",
              "        async function convertToInteractive(key) {\n",
              "          const element = document.querySelector('#df-ce0da324-eeae-4c77-ab17-cd43be12f467');\n",
              "          const dataTable =\n",
              "            await google.colab.kernel.invokeFunction('convertToInteractive',\n",
              "                                                     [key], {});\n",
              "          if (!dataTable) return;\n",
              "\n",
              "          const docLinkHtml = 'Like what you see? Visit the ' +\n",
              "            '<a target=\"_blank\" href=https://colab.research.google.com/notebooks/data_table.ipynb>data table notebook</a>'\n",
              "            + ' to learn more about interactive tables.';\n",
              "          element.innerHTML = '';\n",
              "          dataTable['output_type'] = 'display_data';\n",
              "          await google.colab.output.renderOutput(dataTable, element);\n",
              "          const docLink = document.createElement('div');\n",
              "          docLink.innerHTML = docLinkHtml;\n",
              "          element.appendChild(docLink);\n",
              "        }\n",
              "      </script>\n",
              "    </div>\n",
              "  </div>\n"
            ]
          },
          "metadata": {},
          "execution_count": 19
        }
      ],
      "source": [
        "selected_columns = imdb_data[['Review','Sentiment']]\n",
        "selected_columns.head(3)"
      ]
    },
    {
      "cell_type": "markdown",
      "metadata": {
        "id": "tDtGJR1pa6f6"
      },
      "source": [
        "**Removing special characters**"
      ]
    },
    {
      "cell_type": "code",
      "execution_count": null,
      "metadata": {
        "id": "umFmCyNea6f7"
      },
      "outputs": [],
      "source": [
        "# Define function for removing special characters and converting to lowercase\n",
        "def remove_special_characters(text):\n",
        "    pattern = r'[^a-zA-Z\\s]'\n",
        "    text = re.sub(pattern, '', text)\n",
        "    text = text.lower()\n",
        "    return text\n",
        "\n",
        "# Apply function on 'Review' column\n",
        "imdb_data['Review'] = imdb_data['Review'].apply(remove_special_characters)"
      ]
    },
    {
      "cell_type": "code",
      "execution_count": null,
      "metadata": {
        "id": "w4my94ctWjkc",
        "colab": {
          "base_uri": "https://localhost:8080/",
          "height": 143
        },
        "outputId": "2e73b099-d871-4c59-e88f-d63067adb0fd"
      },
      "outputs": [
        {
          "output_type": "execute_result",
          "data": {
            "text/plain": [
              "                                              Review Sentiment\n",
              "0  lethal games is an absolutely awful attempt at...  Negative\n",
              "1  gulzar is at his best when he is telling such ...  Positive\n",
              "2  i was completely mesmerized by lekin and espec...  Positive"
            ],
            "text/html": [
              "\n",
              "\n",
              "  <div id=\"df-28a01a58-d2bf-454e-a471-3761dd93ec53\">\n",
              "    <div class=\"colab-df-container\">\n",
              "      <div>\n",
              "<style scoped>\n",
              "    .dataframe tbody tr th:only-of-type {\n",
              "        vertical-align: middle;\n",
              "    }\n",
              "\n",
              "    .dataframe tbody tr th {\n",
              "        vertical-align: top;\n",
              "    }\n",
              "\n",
              "    .dataframe thead th {\n",
              "        text-align: right;\n",
              "    }\n",
              "</style>\n",
              "<table border=\"1\" class=\"dataframe\">\n",
              "  <thead>\n",
              "    <tr style=\"text-align: right;\">\n",
              "      <th></th>\n",
              "      <th>Review</th>\n",
              "      <th>Sentiment</th>\n",
              "    </tr>\n",
              "  </thead>\n",
              "  <tbody>\n",
              "    <tr>\n",
              "      <th>0</th>\n",
              "      <td>lethal games is an absolutely awful attempt at...</td>\n",
              "      <td>Negative</td>\n",
              "    </tr>\n",
              "    <tr>\n",
              "      <th>1</th>\n",
              "      <td>gulzar is at his best when he is telling such ...</td>\n",
              "      <td>Positive</td>\n",
              "    </tr>\n",
              "    <tr>\n",
              "      <th>2</th>\n",
              "      <td>i was completely mesmerized by lekin and espec...</td>\n",
              "      <td>Positive</td>\n",
              "    </tr>\n",
              "  </tbody>\n",
              "</table>\n",
              "</div>\n",
              "      <button class=\"colab-df-convert\" onclick=\"convertToInteractive('df-28a01a58-d2bf-454e-a471-3761dd93ec53')\"\n",
              "              title=\"Convert this dataframe to an interactive table.\"\n",
              "              style=\"display:none;\">\n",
              "\n",
              "  <svg xmlns=\"http://www.w3.org/2000/svg\" height=\"24px\"viewBox=\"0 0 24 24\"\n",
              "       width=\"24px\">\n",
              "    <path d=\"M0 0h24v24H0V0z\" fill=\"none\"/>\n",
              "    <path d=\"M18.56 5.44l.94 2.06.94-2.06 2.06-.94-2.06-.94-.94-2.06-.94 2.06-2.06.94zm-11 1L8.5 8.5l.94-2.06 2.06-.94-2.06-.94L8.5 2.5l-.94 2.06-2.06.94zm10 10l.94 2.06.94-2.06 2.06-.94-2.06-.94-.94-2.06-.94 2.06-2.06.94z\"/><path d=\"M17.41 7.96l-1.37-1.37c-.4-.4-.92-.59-1.43-.59-.52 0-1.04.2-1.43.59L10.3 9.45l-7.72 7.72c-.78.78-.78 2.05 0 2.83L4 21.41c.39.39.9.59 1.41.59.51 0 1.02-.2 1.41-.59l7.78-7.78 2.81-2.81c.8-.78.8-2.07 0-2.86zM5.41 20L4 18.59l7.72-7.72 1.47 1.35L5.41 20z\"/>\n",
              "  </svg>\n",
              "      </button>\n",
              "\n",
              "\n",
              "\n",
              "    <div id=\"df-ae909f17-9e18-4e2e-9ded-03dc8432684c\">\n",
              "      <button class=\"colab-df-quickchart\" onclick=\"quickchart('df-ae909f17-9e18-4e2e-9ded-03dc8432684c')\"\n",
              "              title=\"Suggest charts.\"\n",
              "              style=\"display:none;\">\n",
              "\n",
              "<svg xmlns=\"http://www.w3.org/2000/svg\" height=\"24px\"viewBox=\"0 0 24 24\"\n",
              "     width=\"24px\">\n",
              "    <g>\n",
              "        <path d=\"M19 3H5c-1.1 0-2 .9-2 2v14c0 1.1.9 2 2 2h14c1.1 0 2-.9 2-2V5c0-1.1-.9-2-2-2zM9 17H7v-7h2v7zm4 0h-2V7h2v10zm4 0h-2v-4h2v4z\"/>\n",
              "    </g>\n",
              "</svg>\n",
              "      </button>\n",
              "    </div>\n",
              "\n",
              "<style>\n",
              "  .colab-df-quickchart {\n",
              "    background-color: #E8F0FE;\n",
              "    border: none;\n",
              "    border-radius: 50%;\n",
              "    cursor: pointer;\n",
              "    display: none;\n",
              "    fill: #1967D2;\n",
              "    height: 32px;\n",
              "    padding: 0 0 0 0;\n",
              "    width: 32px;\n",
              "  }\n",
              "\n",
              "  .colab-df-quickchart:hover {\n",
              "    background-color: #E2EBFA;\n",
              "    box-shadow: 0px 1px 2px rgba(60, 64, 67, 0.3), 0px 1px 3px 1px rgba(60, 64, 67, 0.15);\n",
              "    fill: #174EA6;\n",
              "  }\n",
              "\n",
              "  [theme=dark] .colab-df-quickchart {\n",
              "    background-color: #3B4455;\n",
              "    fill: #D2E3FC;\n",
              "  }\n",
              "\n",
              "  [theme=dark] .colab-df-quickchart:hover {\n",
              "    background-color: #434B5C;\n",
              "    box-shadow: 0px 1px 3px 1px rgba(0, 0, 0, 0.15);\n",
              "    filter: drop-shadow(0px 1px 2px rgba(0, 0, 0, 0.3));\n",
              "    fill: #FFFFFF;\n",
              "  }\n",
              "</style>\n",
              "\n",
              "    <script>\n",
              "      async function quickchart(key) {\n",
              "        const containerElement = document.querySelector('#' + key);\n",
              "        const charts = await google.colab.kernel.invokeFunction(\n",
              "            'suggestCharts', [key], {});\n",
              "      }\n",
              "    </script>\n",
              "\n",
              "      <script>\n",
              "\n",
              "function displayQuickchartButton(domScope) {\n",
              "  let quickchartButtonEl =\n",
              "    domScope.querySelector('#df-ae909f17-9e18-4e2e-9ded-03dc8432684c button.colab-df-quickchart');\n",
              "  quickchartButtonEl.style.display =\n",
              "    google.colab.kernel.accessAllowed ? 'block' : 'none';\n",
              "}\n",
              "\n",
              "        displayQuickchartButton(document);\n",
              "      </script>\n",
              "      <style>\n",
              "    .colab-df-container {\n",
              "      display:flex;\n",
              "      flex-wrap:wrap;\n",
              "      gap: 12px;\n",
              "    }\n",
              "\n",
              "    .colab-df-convert {\n",
              "      background-color: #E8F0FE;\n",
              "      border: none;\n",
              "      border-radius: 50%;\n",
              "      cursor: pointer;\n",
              "      display: none;\n",
              "      fill: #1967D2;\n",
              "      height: 32px;\n",
              "      padding: 0 0 0 0;\n",
              "      width: 32px;\n",
              "    }\n",
              "\n",
              "    .colab-df-convert:hover {\n",
              "      background-color: #E2EBFA;\n",
              "      box-shadow: 0px 1px 2px rgba(60, 64, 67, 0.3), 0px 1px 3px 1px rgba(60, 64, 67, 0.15);\n",
              "      fill: #174EA6;\n",
              "    }\n",
              "\n",
              "    [theme=dark] .colab-df-convert {\n",
              "      background-color: #3B4455;\n",
              "      fill: #D2E3FC;\n",
              "    }\n",
              "\n",
              "    [theme=dark] .colab-df-convert:hover {\n",
              "      background-color: #434B5C;\n",
              "      box-shadow: 0px 1px 3px 1px rgba(0, 0, 0, 0.15);\n",
              "      filter: drop-shadow(0px 1px 2px rgba(0, 0, 0, 0.3));\n",
              "      fill: #FFFFFF;\n",
              "    }\n",
              "  </style>\n",
              "\n",
              "      <script>\n",
              "        const buttonEl =\n",
              "          document.querySelector('#df-28a01a58-d2bf-454e-a471-3761dd93ec53 button.colab-df-convert');\n",
              "        buttonEl.style.display =\n",
              "          google.colab.kernel.accessAllowed ? 'block' : 'none';\n",
              "\n",
              "        async function convertToInteractive(key) {\n",
              "          const element = document.querySelector('#df-28a01a58-d2bf-454e-a471-3761dd93ec53');\n",
              "          const dataTable =\n",
              "            await google.colab.kernel.invokeFunction('convertToInteractive',\n",
              "                                                     [key], {});\n",
              "          if (!dataTable) return;\n",
              "\n",
              "          const docLinkHtml = 'Like what you see? Visit the ' +\n",
              "            '<a target=\"_blank\" href=https://colab.research.google.com/notebooks/data_table.ipynb>data table notebook</a>'\n",
              "            + ' to learn more about interactive tables.';\n",
              "          element.innerHTML = '';\n",
              "          dataTable['output_type'] = 'display_data';\n",
              "          await google.colab.output.renderOutput(dataTable, element);\n",
              "          const docLink = document.createElement('div');\n",
              "          docLink.innerHTML = docLinkHtml;\n",
              "          element.appendChild(docLink);\n",
              "        }\n",
              "      </script>\n",
              "    </div>\n",
              "  </div>\n"
            ]
          },
          "metadata": {},
          "execution_count": 21
        }
      ],
      "source": [
        "selected_columns = imdb_data[['Review','Sentiment']]\n",
        "selected_columns.head(3)"
      ]
    },
    {
      "cell_type": "markdown",
      "metadata": {
        "id": "SOtIIZDbFs6f"
      },
      "source": [
        "**2. Tokenization**"
      ]
    },
    {
      "cell_type": "code",
      "execution_count": null,
      "metadata": {
        "id": "RiGiC5FnDcJn"
      },
      "outputs": [],
      "source": [
        "import nltk\n",
        "from nltk.tokenize import RegexpTokenizer\n",
        "\n",
        "regexp = RegexpTokenizer('\\w+')\n",
        "\n",
        "imdb_data['Review_token'] = imdb_data['Review'].apply(regexp.tokenize)"
      ]
    },
    {
      "cell_type": "code",
      "execution_count": null,
      "metadata": {
        "id": "wnF9ufOCGH5O",
        "colab": {
          "base_uri": "https://localhost:8080/",
          "height": 143
        },
        "outputId": "73db819d-8a00-4540-b2d6-2b345e8aab77"
      },
      "outputs": [
        {
          "output_type": "execute_result",
          "data": {
            "text/plain": [
              "                                              Review  \\\n",
              "0  lethal games is an absolutely awful attempt at...   \n",
              "1  gulzar is at his best when he is telling such ...   \n",
              "2  i was completely mesmerized by lekin and espec...   \n",
              "\n",
              "                                        Review_token Sentiment  \n",
              "0  [lethal, games, is, an, absolutely, awful, att...  Negative  \n",
              "1  [gulzar, is, at, his, best, when, he, is, tell...  Positive  \n",
              "2  [i, was, completely, mesmerized, by, lekin, an...  Positive  "
            ],
            "text/html": [
              "\n",
              "\n",
              "  <div id=\"df-1f48f0a2-877e-49e1-9e75-c7bbab4e4564\">\n",
              "    <div class=\"colab-df-container\">\n",
              "      <div>\n",
              "<style scoped>\n",
              "    .dataframe tbody tr th:only-of-type {\n",
              "        vertical-align: middle;\n",
              "    }\n",
              "\n",
              "    .dataframe tbody tr th {\n",
              "        vertical-align: top;\n",
              "    }\n",
              "\n",
              "    .dataframe thead th {\n",
              "        text-align: right;\n",
              "    }\n",
              "</style>\n",
              "<table border=\"1\" class=\"dataframe\">\n",
              "  <thead>\n",
              "    <tr style=\"text-align: right;\">\n",
              "      <th></th>\n",
              "      <th>Review</th>\n",
              "      <th>Review_token</th>\n",
              "      <th>Sentiment</th>\n",
              "    </tr>\n",
              "  </thead>\n",
              "  <tbody>\n",
              "    <tr>\n",
              "      <th>0</th>\n",
              "      <td>lethal games is an absolutely awful attempt at...</td>\n",
              "      <td>[lethal, games, is, an, absolutely, awful, att...</td>\n",
              "      <td>Negative</td>\n",
              "    </tr>\n",
              "    <tr>\n",
              "      <th>1</th>\n",
              "      <td>gulzar is at his best when he is telling such ...</td>\n",
              "      <td>[gulzar, is, at, his, best, when, he, is, tell...</td>\n",
              "      <td>Positive</td>\n",
              "    </tr>\n",
              "    <tr>\n",
              "      <th>2</th>\n",
              "      <td>i was completely mesmerized by lekin and espec...</td>\n",
              "      <td>[i, was, completely, mesmerized, by, lekin, an...</td>\n",
              "      <td>Positive</td>\n",
              "    </tr>\n",
              "  </tbody>\n",
              "</table>\n",
              "</div>\n",
              "      <button class=\"colab-df-convert\" onclick=\"convertToInteractive('df-1f48f0a2-877e-49e1-9e75-c7bbab4e4564')\"\n",
              "              title=\"Convert this dataframe to an interactive table.\"\n",
              "              style=\"display:none;\">\n",
              "\n",
              "  <svg xmlns=\"http://www.w3.org/2000/svg\" height=\"24px\"viewBox=\"0 0 24 24\"\n",
              "       width=\"24px\">\n",
              "    <path d=\"M0 0h24v24H0V0z\" fill=\"none\"/>\n",
              "    <path d=\"M18.56 5.44l.94 2.06.94-2.06 2.06-.94-2.06-.94-.94-2.06-.94 2.06-2.06.94zm-11 1L8.5 8.5l.94-2.06 2.06-.94-2.06-.94L8.5 2.5l-.94 2.06-2.06.94zm10 10l.94 2.06.94-2.06 2.06-.94-2.06-.94-.94-2.06-.94 2.06-2.06.94z\"/><path d=\"M17.41 7.96l-1.37-1.37c-.4-.4-.92-.59-1.43-.59-.52 0-1.04.2-1.43.59L10.3 9.45l-7.72 7.72c-.78.78-.78 2.05 0 2.83L4 21.41c.39.39.9.59 1.41.59.51 0 1.02-.2 1.41-.59l7.78-7.78 2.81-2.81c.8-.78.8-2.07 0-2.86zM5.41 20L4 18.59l7.72-7.72 1.47 1.35L5.41 20z\"/>\n",
              "  </svg>\n",
              "      </button>\n",
              "\n",
              "\n",
              "\n",
              "    <div id=\"df-12667313-3461-4e59-9714-42b02984e778\">\n",
              "      <button class=\"colab-df-quickchart\" onclick=\"quickchart('df-12667313-3461-4e59-9714-42b02984e778')\"\n",
              "              title=\"Suggest charts.\"\n",
              "              style=\"display:none;\">\n",
              "\n",
              "<svg xmlns=\"http://www.w3.org/2000/svg\" height=\"24px\"viewBox=\"0 0 24 24\"\n",
              "     width=\"24px\">\n",
              "    <g>\n",
              "        <path d=\"M19 3H5c-1.1 0-2 .9-2 2v14c0 1.1.9 2 2 2h14c1.1 0 2-.9 2-2V5c0-1.1-.9-2-2-2zM9 17H7v-7h2v7zm4 0h-2V7h2v10zm4 0h-2v-4h2v4z\"/>\n",
              "    </g>\n",
              "</svg>\n",
              "      </button>\n",
              "    </div>\n",
              "\n",
              "<style>\n",
              "  .colab-df-quickchart {\n",
              "    background-color: #E8F0FE;\n",
              "    border: none;\n",
              "    border-radius: 50%;\n",
              "    cursor: pointer;\n",
              "    display: none;\n",
              "    fill: #1967D2;\n",
              "    height: 32px;\n",
              "    padding: 0 0 0 0;\n",
              "    width: 32px;\n",
              "  }\n",
              "\n",
              "  .colab-df-quickchart:hover {\n",
              "    background-color: #E2EBFA;\n",
              "    box-shadow: 0px 1px 2px rgba(60, 64, 67, 0.3), 0px 1px 3px 1px rgba(60, 64, 67, 0.15);\n",
              "    fill: #174EA6;\n",
              "  }\n",
              "\n",
              "  [theme=dark] .colab-df-quickchart {\n",
              "    background-color: #3B4455;\n",
              "    fill: #D2E3FC;\n",
              "  }\n",
              "\n",
              "  [theme=dark] .colab-df-quickchart:hover {\n",
              "    background-color: #434B5C;\n",
              "    box-shadow: 0px 1px 3px 1px rgba(0, 0, 0, 0.15);\n",
              "    filter: drop-shadow(0px 1px 2px rgba(0, 0, 0, 0.3));\n",
              "    fill: #FFFFFF;\n",
              "  }\n",
              "</style>\n",
              "\n",
              "    <script>\n",
              "      async function quickchart(key) {\n",
              "        const containerElement = document.querySelector('#' + key);\n",
              "        const charts = await google.colab.kernel.invokeFunction(\n",
              "            'suggestCharts', [key], {});\n",
              "      }\n",
              "    </script>\n",
              "\n",
              "      <script>\n",
              "\n",
              "function displayQuickchartButton(domScope) {\n",
              "  let quickchartButtonEl =\n",
              "    domScope.querySelector('#df-12667313-3461-4e59-9714-42b02984e778 button.colab-df-quickchart');\n",
              "  quickchartButtonEl.style.display =\n",
              "    google.colab.kernel.accessAllowed ? 'block' : 'none';\n",
              "}\n",
              "\n",
              "        displayQuickchartButton(document);\n",
              "      </script>\n",
              "      <style>\n",
              "    .colab-df-container {\n",
              "      display:flex;\n",
              "      flex-wrap:wrap;\n",
              "      gap: 12px;\n",
              "    }\n",
              "\n",
              "    .colab-df-convert {\n",
              "      background-color: #E8F0FE;\n",
              "      border: none;\n",
              "      border-radius: 50%;\n",
              "      cursor: pointer;\n",
              "      display: none;\n",
              "      fill: #1967D2;\n",
              "      height: 32px;\n",
              "      padding: 0 0 0 0;\n",
              "      width: 32px;\n",
              "    }\n",
              "\n",
              "    .colab-df-convert:hover {\n",
              "      background-color: #E2EBFA;\n",
              "      box-shadow: 0px 1px 2px rgba(60, 64, 67, 0.3), 0px 1px 3px 1px rgba(60, 64, 67, 0.15);\n",
              "      fill: #174EA6;\n",
              "    }\n",
              "\n",
              "    [theme=dark] .colab-df-convert {\n",
              "      background-color: #3B4455;\n",
              "      fill: #D2E3FC;\n",
              "    }\n",
              "\n",
              "    [theme=dark] .colab-df-convert:hover {\n",
              "      background-color: #434B5C;\n",
              "      box-shadow: 0px 1px 3px 1px rgba(0, 0, 0, 0.15);\n",
              "      filter: drop-shadow(0px 1px 2px rgba(0, 0, 0, 0.3));\n",
              "      fill: #FFFFFF;\n",
              "    }\n",
              "  </style>\n",
              "\n",
              "      <script>\n",
              "        const buttonEl =\n",
              "          document.querySelector('#df-1f48f0a2-877e-49e1-9e75-c7bbab4e4564 button.colab-df-convert');\n",
              "        buttonEl.style.display =\n",
              "          google.colab.kernel.accessAllowed ? 'block' : 'none';\n",
              "\n",
              "        async function convertToInteractive(key) {\n",
              "          const element = document.querySelector('#df-1f48f0a2-877e-49e1-9e75-c7bbab4e4564');\n",
              "          const dataTable =\n",
              "            await google.colab.kernel.invokeFunction('convertToInteractive',\n",
              "                                                     [key], {});\n",
              "          if (!dataTable) return;\n",
              "\n",
              "          const docLinkHtml = 'Like what you see? Visit the ' +\n",
              "            '<a target=\"_blank\" href=https://colab.research.google.com/notebooks/data_table.ipynb>data table notebook</a>'\n",
              "            + ' to learn more about interactive tables.';\n",
              "          element.innerHTML = '';\n",
              "          dataTable['output_type'] = 'display_data';\n",
              "          await google.colab.output.renderOutput(dataTable, element);\n",
              "          const docLink = document.createElement('div');\n",
              "          docLink.innerHTML = docLinkHtml;\n",
              "          element.appendChild(docLink);\n",
              "        }\n",
              "      </script>\n",
              "    </div>\n",
              "  </div>\n"
            ]
          },
          "metadata": {},
          "execution_count": 23
        }
      ],
      "source": [
        "selected_columns = imdb_data[['Review','Review_token','Sentiment']]\n",
        "selected_columns.head(3)"
      ]
    },
    {
      "cell_type": "markdown",
      "metadata": {
        "id": "vfr7mogHIlOL"
      },
      "source": [
        "**3. Stop Word Filtering**"
      ]
    },
    {
      "cell_type": "code",
      "execution_count": null,
      "metadata": {
        "id": "la3yziTKIsQK",
        "colab": {
          "base_uri": "https://localhost:8080/"
        },
        "outputId": "0c14b3b8-53b9-4f15-de53-24f75c175adc"
      },
      "outputs": [
        {
          "output_type": "stream",
          "name": "stderr",
          "text": [
            "[nltk_data] Downloading package stopwords to /root/nltk_data...\n",
            "[nltk_data]   Package stopwords is already up-to-date!\n",
            "[nltk_data] Downloading package punkt to /root/nltk_data...\n",
            "[nltk_data]   Unzipping tokenizers/punkt.zip.\n"
          ]
        },
        {
          "output_type": "execute_result",
          "data": {
            "text/plain": [
              "True"
            ]
          },
          "metadata": {},
          "execution_count": 24
        }
      ],
      "source": [
        "from nltk.corpus import stopwords\n",
        "\n",
        "nltk.download('stopwords')\n",
        "nltk.download('punkt')"
      ]
    },
    {
      "cell_type": "code",
      "execution_count": null,
      "metadata": {
        "id": "DIvMoA8wIvnS"
      },
      "outputs": [],
      "source": [
        "# Make a list of english stopwords\n",
        "stopwords = nltk.corpus.stopwords.words(\"english\")"
      ]
    },
    {
      "cell_type": "code",
      "execution_count": null,
      "metadata": {
        "id": "NG-NbRyBI00x"
      },
      "outputs": [],
      "source": [
        "# Remove stopwords for each row in the dataset\n",
        "imdb_data['Review_token'] = imdb_data['Review'].apply(lambda x: [token for token in regexp.tokenize(x) if token.lower() not in stopwords])"
      ]
    },
    {
      "cell_type": "code",
      "execution_count": null,
      "metadata": {
        "id": "JgvccQaPJLrh",
        "colab": {
          "base_uri": "https://localhost:8080/",
          "height": 143
        },
        "outputId": "be72d579-71ff-4535-80f4-af2ef42d8ac3"
      },
      "outputs": [
        {
          "output_type": "execute_result",
          "data": {
            "text/plain": [
              "                                              Review  \\\n",
              "0  lethal games is an absolutely awful attempt at...   \n",
              "1  gulzar is at his best when he is telling such ...   \n",
              "2  i was completely mesmerized by lekin and espec...   \n",
              "\n",
              "                                        Review_token Sentiment  \n",
              "0  [lethal, games, absolutely, awful, attempt, ac...  Negative  \n",
              "1  [gulzar, best, telling, intriiguing, story, ea...  Positive  \n",
              "2  [completely, mesmerized, lekin, especially, ca...  Positive  "
            ],
            "text/html": [
              "\n",
              "\n",
              "  <div id=\"df-162ea8ec-6a55-435b-8049-c910c15626b8\">\n",
              "    <div class=\"colab-df-container\">\n",
              "      <div>\n",
              "<style scoped>\n",
              "    .dataframe tbody tr th:only-of-type {\n",
              "        vertical-align: middle;\n",
              "    }\n",
              "\n",
              "    .dataframe tbody tr th {\n",
              "        vertical-align: top;\n",
              "    }\n",
              "\n",
              "    .dataframe thead th {\n",
              "        text-align: right;\n",
              "    }\n",
              "</style>\n",
              "<table border=\"1\" class=\"dataframe\">\n",
              "  <thead>\n",
              "    <tr style=\"text-align: right;\">\n",
              "      <th></th>\n",
              "      <th>Review</th>\n",
              "      <th>Review_token</th>\n",
              "      <th>Sentiment</th>\n",
              "    </tr>\n",
              "  </thead>\n",
              "  <tbody>\n",
              "    <tr>\n",
              "      <th>0</th>\n",
              "      <td>lethal games is an absolutely awful attempt at...</td>\n",
              "      <td>[lethal, games, absolutely, awful, attempt, ac...</td>\n",
              "      <td>Negative</td>\n",
              "    </tr>\n",
              "    <tr>\n",
              "      <th>1</th>\n",
              "      <td>gulzar is at his best when he is telling such ...</td>\n",
              "      <td>[gulzar, best, telling, intriiguing, story, ea...</td>\n",
              "      <td>Positive</td>\n",
              "    </tr>\n",
              "    <tr>\n",
              "      <th>2</th>\n",
              "      <td>i was completely mesmerized by lekin and espec...</td>\n",
              "      <td>[completely, mesmerized, lekin, especially, ca...</td>\n",
              "      <td>Positive</td>\n",
              "    </tr>\n",
              "  </tbody>\n",
              "</table>\n",
              "</div>\n",
              "      <button class=\"colab-df-convert\" onclick=\"convertToInteractive('df-162ea8ec-6a55-435b-8049-c910c15626b8')\"\n",
              "              title=\"Convert this dataframe to an interactive table.\"\n",
              "              style=\"display:none;\">\n",
              "\n",
              "  <svg xmlns=\"http://www.w3.org/2000/svg\" height=\"24px\"viewBox=\"0 0 24 24\"\n",
              "       width=\"24px\">\n",
              "    <path d=\"M0 0h24v24H0V0z\" fill=\"none\"/>\n",
              "    <path d=\"M18.56 5.44l.94 2.06.94-2.06 2.06-.94-2.06-.94-.94-2.06-.94 2.06-2.06.94zm-11 1L8.5 8.5l.94-2.06 2.06-.94-2.06-.94L8.5 2.5l-.94 2.06-2.06.94zm10 10l.94 2.06.94-2.06 2.06-.94-2.06-.94-.94-2.06-.94 2.06-2.06.94z\"/><path d=\"M17.41 7.96l-1.37-1.37c-.4-.4-.92-.59-1.43-.59-.52 0-1.04.2-1.43.59L10.3 9.45l-7.72 7.72c-.78.78-.78 2.05 0 2.83L4 21.41c.39.39.9.59 1.41.59.51 0 1.02-.2 1.41-.59l7.78-7.78 2.81-2.81c.8-.78.8-2.07 0-2.86zM5.41 20L4 18.59l7.72-7.72 1.47 1.35L5.41 20z\"/>\n",
              "  </svg>\n",
              "      </button>\n",
              "\n",
              "\n",
              "\n",
              "    <div id=\"df-2ec73068-01a8-4c81-a033-7db6bc78ec7f\">\n",
              "      <button class=\"colab-df-quickchart\" onclick=\"quickchart('df-2ec73068-01a8-4c81-a033-7db6bc78ec7f')\"\n",
              "              title=\"Suggest charts.\"\n",
              "              style=\"display:none;\">\n",
              "\n",
              "<svg xmlns=\"http://www.w3.org/2000/svg\" height=\"24px\"viewBox=\"0 0 24 24\"\n",
              "     width=\"24px\">\n",
              "    <g>\n",
              "        <path d=\"M19 3H5c-1.1 0-2 .9-2 2v14c0 1.1.9 2 2 2h14c1.1 0 2-.9 2-2V5c0-1.1-.9-2-2-2zM9 17H7v-7h2v7zm4 0h-2V7h2v10zm4 0h-2v-4h2v4z\"/>\n",
              "    </g>\n",
              "</svg>\n",
              "      </button>\n",
              "    </div>\n",
              "\n",
              "<style>\n",
              "  .colab-df-quickchart {\n",
              "    background-color: #E8F0FE;\n",
              "    border: none;\n",
              "    border-radius: 50%;\n",
              "    cursor: pointer;\n",
              "    display: none;\n",
              "    fill: #1967D2;\n",
              "    height: 32px;\n",
              "    padding: 0 0 0 0;\n",
              "    width: 32px;\n",
              "  }\n",
              "\n",
              "  .colab-df-quickchart:hover {\n",
              "    background-color: #E2EBFA;\n",
              "    box-shadow: 0px 1px 2px rgba(60, 64, 67, 0.3), 0px 1px 3px 1px rgba(60, 64, 67, 0.15);\n",
              "    fill: #174EA6;\n",
              "  }\n",
              "\n",
              "  [theme=dark] .colab-df-quickchart {\n",
              "    background-color: #3B4455;\n",
              "    fill: #D2E3FC;\n",
              "  }\n",
              "\n",
              "  [theme=dark] .colab-df-quickchart:hover {\n",
              "    background-color: #434B5C;\n",
              "    box-shadow: 0px 1px 3px 1px rgba(0, 0, 0, 0.15);\n",
              "    filter: drop-shadow(0px 1px 2px rgba(0, 0, 0, 0.3));\n",
              "    fill: #FFFFFF;\n",
              "  }\n",
              "</style>\n",
              "\n",
              "    <script>\n",
              "      async function quickchart(key) {\n",
              "        const containerElement = document.querySelector('#' + key);\n",
              "        const charts = await google.colab.kernel.invokeFunction(\n",
              "            'suggestCharts', [key], {});\n",
              "      }\n",
              "    </script>\n",
              "\n",
              "      <script>\n",
              "\n",
              "function displayQuickchartButton(domScope) {\n",
              "  let quickchartButtonEl =\n",
              "    domScope.querySelector('#df-2ec73068-01a8-4c81-a033-7db6bc78ec7f button.colab-df-quickchart');\n",
              "  quickchartButtonEl.style.display =\n",
              "    google.colab.kernel.accessAllowed ? 'block' : 'none';\n",
              "}\n",
              "\n",
              "        displayQuickchartButton(document);\n",
              "      </script>\n",
              "      <style>\n",
              "    .colab-df-container {\n",
              "      display:flex;\n",
              "      flex-wrap:wrap;\n",
              "      gap: 12px;\n",
              "    }\n",
              "\n",
              "    .colab-df-convert {\n",
              "      background-color: #E8F0FE;\n",
              "      border: none;\n",
              "      border-radius: 50%;\n",
              "      cursor: pointer;\n",
              "      display: none;\n",
              "      fill: #1967D2;\n",
              "      height: 32px;\n",
              "      padding: 0 0 0 0;\n",
              "      width: 32px;\n",
              "    }\n",
              "\n",
              "    .colab-df-convert:hover {\n",
              "      background-color: #E2EBFA;\n",
              "      box-shadow: 0px 1px 2px rgba(60, 64, 67, 0.3), 0px 1px 3px 1px rgba(60, 64, 67, 0.15);\n",
              "      fill: #174EA6;\n",
              "    }\n",
              "\n",
              "    [theme=dark] .colab-df-convert {\n",
              "      background-color: #3B4455;\n",
              "      fill: #D2E3FC;\n",
              "    }\n",
              "\n",
              "    [theme=dark] .colab-df-convert:hover {\n",
              "      background-color: #434B5C;\n",
              "      box-shadow: 0px 1px 3px 1px rgba(0, 0, 0, 0.15);\n",
              "      filter: drop-shadow(0px 1px 2px rgba(0, 0, 0, 0.3));\n",
              "      fill: #FFFFFF;\n",
              "    }\n",
              "  </style>\n",
              "\n",
              "      <script>\n",
              "        const buttonEl =\n",
              "          document.querySelector('#df-162ea8ec-6a55-435b-8049-c910c15626b8 button.colab-df-convert');\n",
              "        buttonEl.style.display =\n",
              "          google.colab.kernel.accessAllowed ? 'block' : 'none';\n",
              "\n",
              "        async function convertToInteractive(key) {\n",
              "          const element = document.querySelector('#df-162ea8ec-6a55-435b-8049-c910c15626b8');\n",
              "          const dataTable =\n",
              "            await google.colab.kernel.invokeFunction('convertToInteractive',\n",
              "                                                     [key], {});\n",
              "          if (!dataTable) return;\n",
              "\n",
              "          const docLinkHtml = 'Like what you see? Visit the ' +\n",
              "            '<a target=\"_blank\" href=https://colab.research.google.com/notebooks/data_table.ipynb>data table notebook</a>'\n",
              "            + ' to learn more about interactive tables.';\n",
              "          element.innerHTML = '';\n",
              "          dataTable['output_type'] = 'display_data';\n",
              "          await google.colab.output.renderOutput(dataTable, element);\n",
              "          const docLink = document.createElement('div');\n",
              "          docLink.innerHTML = docLinkHtml;\n",
              "          element.appendChild(docLink);\n",
              "        }\n",
              "      </script>\n",
              "    </div>\n",
              "  </div>\n"
            ]
          },
          "metadata": {},
          "execution_count": 27
        }
      ],
      "source": [
        "selected_columns = imdb_data[['Review','Review_token','Sentiment']]\n",
        "selected_columns.head(3)"
      ]
    },
    {
      "cell_type": "markdown",
      "metadata": {
        "id": "SofGHduFgOq8"
      },
      "source": [
        "**4.Negation Handling**"
      ]
    },
    {
      "cell_type": "code",
      "execution_count": null,
      "metadata": {
        "id": "OsADRgAqaq7u"
      },
      "outputs": [],
      "source": [
        "import nltk\n",
        "nltk.download('vader_lexicon')"
      ]
    },
    {
      "cell_type": "code",
      "execution_count": null,
      "metadata": {
        "id": "MXMnac0ngKpY"
      },
      "outputs": [],
      "source": [
        "# Initialize SentimentIntensityAnalyzer\n",
        "sia = SentimentIntensityAnalyzer()\n",
        "\n",
        "# Function to handle negation\n",
        "def handle_negation(tokens):\n",
        "    negation_words = ['not', 'no', 'never','neither','nor','nobody','none','nothing','nowhere','hardly','barely','scarely',\n",
        "                      'rarely','seldom','without']\n",
        "    negation_present = False\n",
        "    negated_tokens = []\n",
        "    for token in tokens:\n",
        "        if token in negation_words:\n",
        "            negation_present = True\n",
        "        elif negation_present and any(p in token for p in ['.', '!', '?']):\n",
        "            negation_present = False\n",
        "        if negation_present:\n",
        "            negated_tokens.append('not_' + token)\n",
        "        else:\n",
        "            negated_tokens.append(token)\n",
        "    return negated_tokens\n",
        "\n",
        "# Apply negation handling to the tokenized reviews\n",
        "imdb_data['Review_token'] = imdb_data['Review_token'].apply(handle_negation)\n"
      ]
    },
    {
      "cell_type": "code",
      "execution_count": null,
      "metadata": {
        "id": "OJMuH9argnb1",
        "colab": {
          "base_uri": "https://localhost:8080/",
          "height": 143
        },
        "outputId": "7d1c032e-1650-48f5-dc90-0608e1e66f28"
      },
      "outputs": [
        {
          "output_type": "execute_result",
          "data": {
            "text/plain": [
              "                                              Review  \\\n",
              "0  lethal games is an absolutely awful attempt at...   \n",
              "1  gulzar is at his best when he is telling such ...   \n",
              "2  i was completely mesmerized by lekin and espec...   \n",
              "\n",
              "                                        Review_token Sentiment  \n",
              "0  [lethal, games, absolutely, awful, attempt, ac...  Negative  \n",
              "1  [gulzar, best, telling, intriiguing, story, ea...  Positive  \n",
              "2  [completely, mesmerized, lekin, especially, ca...  Positive  "
            ],
            "text/html": [
              "\n",
              "\n",
              "  <div id=\"df-45dc1f97-9d50-4c11-9834-9d0a141e6734\">\n",
              "    <div class=\"colab-df-container\">\n",
              "      <div>\n",
              "<style scoped>\n",
              "    .dataframe tbody tr th:only-of-type {\n",
              "        vertical-align: middle;\n",
              "    }\n",
              "\n",
              "    .dataframe tbody tr th {\n",
              "        vertical-align: top;\n",
              "    }\n",
              "\n",
              "    .dataframe thead th {\n",
              "        text-align: right;\n",
              "    }\n",
              "</style>\n",
              "<table border=\"1\" class=\"dataframe\">\n",
              "  <thead>\n",
              "    <tr style=\"text-align: right;\">\n",
              "      <th></th>\n",
              "      <th>Review</th>\n",
              "      <th>Review_token</th>\n",
              "      <th>Sentiment</th>\n",
              "    </tr>\n",
              "  </thead>\n",
              "  <tbody>\n",
              "    <tr>\n",
              "      <th>0</th>\n",
              "      <td>lethal games is an absolutely awful attempt at...</td>\n",
              "      <td>[lethal, games, absolutely, awful, attempt, ac...</td>\n",
              "      <td>Negative</td>\n",
              "    </tr>\n",
              "    <tr>\n",
              "      <th>1</th>\n",
              "      <td>gulzar is at his best when he is telling such ...</td>\n",
              "      <td>[gulzar, best, telling, intriiguing, story, ea...</td>\n",
              "      <td>Positive</td>\n",
              "    </tr>\n",
              "    <tr>\n",
              "      <th>2</th>\n",
              "      <td>i was completely mesmerized by lekin and espec...</td>\n",
              "      <td>[completely, mesmerized, lekin, especially, ca...</td>\n",
              "      <td>Positive</td>\n",
              "    </tr>\n",
              "  </tbody>\n",
              "</table>\n",
              "</div>\n",
              "      <button class=\"colab-df-convert\" onclick=\"convertToInteractive('df-45dc1f97-9d50-4c11-9834-9d0a141e6734')\"\n",
              "              title=\"Convert this dataframe to an interactive table.\"\n",
              "              style=\"display:none;\">\n",
              "\n",
              "  <svg xmlns=\"http://www.w3.org/2000/svg\" height=\"24px\"viewBox=\"0 0 24 24\"\n",
              "       width=\"24px\">\n",
              "    <path d=\"M0 0h24v24H0V0z\" fill=\"none\"/>\n",
              "    <path d=\"M18.56 5.44l.94 2.06.94-2.06 2.06-.94-2.06-.94-.94-2.06-.94 2.06-2.06.94zm-11 1L8.5 8.5l.94-2.06 2.06-.94-2.06-.94L8.5 2.5l-.94 2.06-2.06.94zm10 10l.94 2.06.94-2.06 2.06-.94-2.06-.94-.94-2.06-.94 2.06-2.06.94z\"/><path d=\"M17.41 7.96l-1.37-1.37c-.4-.4-.92-.59-1.43-.59-.52 0-1.04.2-1.43.59L10.3 9.45l-7.72 7.72c-.78.78-.78 2.05 0 2.83L4 21.41c.39.39.9.59 1.41.59.51 0 1.02-.2 1.41-.59l7.78-7.78 2.81-2.81c.8-.78.8-2.07 0-2.86zM5.41 20L4 18.59l7.72-7.72 1.47 1.35L5.41 20z\"/>\n",
              "  </svg>\n",
              "      </button>\n",
              "\n",
              "\n",
              "\n",
              "    <div id=\"df-21c2244b-4cee-4be1-9ec3-51a3750805fb\">\n",
              "      <button class=\"colab-df-quickchart\" onclick=\"quickchart('df-21c2244b-4cee-4be1-9ec3-51a3750805fb')\"\n",
              "              title=\"Suggest charts.\"\n",
              "              style=\"display:none;\">\n",
              "\n",
              "<svg xmlns=\"http://www.w3.org/2000/svg\" height=\"24px\"viewBox=\"0 0 24 24\"\n",
              "     width=\"24px\">\n",
              "    <g>\n",
              "        <path d=\"M19 3H5c-1.1 0-2 .9-2 2v14c0 1.1.9 2 2 2h14c1.1 0 2-.9 2-2V5c0-1.1-.9-2-2-2zM9 17H7v-7h2v7zm4 0h-2V7h2v10zm4 0h-2v-4h2v4z\"/>\n",
              "    </g>\n",
              "</svg>\n",
              "      </button>\n",
              "    </div>\n",
              "\n",
              "<style>\n",
              "  .colab-df-quickchart {\n",
              "    background-color: #E8F0FE;\n",
              "    border: none;\n",
              "    border-radius: 50%;\n",
              "    cursor: pointer;\n",
              "    display: none;\n",
              "    fill: #1967D2;\n",
              "    height: 32px;\n",
              "    padding: 0 0 0 0;\n",
              "    width: 32px;\n",
              "  }\n",
              "\n",
              "  .colab-df-quickchart:hover {\n",
              "    background-color: #E2EBFA;\n",
              "    box-shadow: 0px 1px 2px rgba(60, 64, 67, 0.3), 0px 1px 3px 1px rgba(60, 64, 67, 0.15);\n",
              "    fill: #174EA6;\n",
              "  }\n",
              "\n",
              "  [theme=dark] .colab-df-quickchart {\n",
              "    background-color: #3B4455;\n",
              "    fill: #D2E3FC;\n",
              "  }\n",
              "\n",
              "  [theme=dark] .colab-df-quickchart:hover {\n",
              "    background-color: #434B5C;\n",
              "    box-shadow: 0px 1px 3px 1px rgba(0, 0, 0, 0.15);\n",
              "    filter: drop-shadow(0px 1px 2px rgba(0, 0, 0, 0.3));\n",
              "    fill: #FFFFFF;\n",
              "  }\n",
              "</style>\n",
              "\n",
              "    <script>\n",
              "      async function quickchart(key) {\n",
              "        const containerElement = document.querySelector('#' + key);\n",
              "        const charts = await google.colab.kernel.invokeFunction(\n",
              "            'suggestCharts', [key], {});\n",
              "      }\n",
              "    </script>\n",
              "\n",
              "      <script>\n",
              "\n",
              "function displayQuickchartButton(domScope) {\n",
              "  let quickchartButtonEl =\n",
              "    domScope.querySelector('#df-21c2244b-4cee-4be1-9ec3-51a3750805fb button.colab-df-quickchart');\n",
              "  quickchartButtonEl.style.display =\n",
              "    google.colab.kernel.accessAllowed ? 'block' : 'none';\n",
              "}\n",
              "\n",
              "        displayQuickchartButton(document);\n",
              "      </script>\n",
              "      <style>\n",
              "    .colab-df-container {\n",
              "      display:flex;\n",
              "      flex-wrap:wrap;\n",
              "      gap: 12px;\n",
              "    }\n",
              "\n",
              "    .colab-df-convert {\n",
              "      background-color: #E8F0FE;\n",
              "      border: none;\n",
              "      border-radius: 50%;\n",
              "      cursor: pointer;\n",
              "      display: none;\n",
              "      fill: #1967D2;\n",
              "      height: 32px;\n",
              "      padding: 0 0 0 0;\n",
              "      width: 32px;\n",
              "    }\n",
              "\n",
              "    .colab-df-convert:hover {\n",
              "      background-color: #E2EBFA;\n",
              "      box-shadow: 0px 1px 2px rgba(60, 64, 67, 0.3), 0px 1px 3px 1px rgba(60, 64, 67, 0.15);\n",
              "      fill: #174EA6;\n",
              "    }\n",
              "\n",
              "    [theme=dark] .colab-df-convert {\n",
              "      background-color: #3B4455;\n",
              "      fill: #D2E3FC;\n",
              "    }\n",
              "\n",
              "    [theme=dark] .colab-df-convert:hover {\n",
              "      background-color: #434B5C;\n",
              "      box-shadow: 0px 1px 3px 1px rgba(0, 0, 0, 0.15);\n",
              "      filter: drop-shadow(0px 1px 2px rgba(0, 0, 0, 0.3));\n",
              "      fill: #FFFFFF;\n",
              "    }\n",
              "  </style>\n",
              "\n",
              "      <script>\n",
              "        const buttonEl =\n",
              "          document.querySelector('#df-45dc1f97-9d50-4c11-9834-9d0a141e6734 button.colab-df-convert');\n",
              "        buttonEl.style.display =\n",
              "          google.colab.kernel.accessAllowed ? 'block' : 'none';\n",
              "\n",
              "        async function convertToInteractive(key) {\n",
              "          const element = document.querySelector('#df-45dc1f97-9d50-4c11-9834-9d0a141e6734');\n",
              "          const dataTable =\n",
              "            await google.colab.kernel.invokeFunction('convertToInteractive',\n",
              "                                                     [key], {});\n",
              "          if (!dataTable) return;\n",
              "\n",
              "          const docLinkHtml = 'Like what you see? Visit the ' +\n",
              "            '<a target=\"_blank\" href=https://colab.research.google.com/notebooks/data_table.ipynb>data table notebook</a>'\n",
              "            + ' to learn more about interactive tables.';\n",
              "          element.innerHTML = '';\n",
              "          dataTable['output_type'] = 'display_data';\n",
              "          await google.colab.output.renderOutput(dataTable, element);\n",
              "          const docLink = document.createElement('div');\n",
              "          docLink.innerHTML = docLinkHtml;\n",
              "          element.appendChild(docLink);\n",
              "        }\n",
              "      </script>\n",
              "    </div>\n",
              "  </div>\n"
            ]
          },
          "metadata": {},
          "execution_count": 30
        }
      ],
      "source": [
        "selected_columns = imdb_data[['Review','Review_token','Sentiment']]\n",
        "selected_columns.head(3)"
      ]
    },
    {
      "cell_type": "markdown",
      "metadata": {
        "id": "h5wf2i6ha6f8"
      },
      "source": [
        "**Text stemming**"
      ]
    },
    {
      "cell_type": "code",
      "execution_count": null,
      "metadata": {
        "id": "YZIk3VMYa6f8"
      },
      "outputs": [],
      "source": [
        "from nltk.stem import PorterStemmer\n",
        "\n",
        "ps = PorterStemmer()\n",
        "\n",
        "def stem_tokens(tokens):\n",
        "    stemmed_tokens = [ps.stem(token) for token in tokens]\n",
        "    return stemmed_tokens\n",
        "\n",
        "imdb_data['Review_token'] = imdb_data['Review_token'].apply(stem_tokens)"
      ]
    },
    {
      "cell_type": "code",
      "execution_count": null,
      "metadata": {
        "id": "FMKyTZFuhbN9",
        "colab": {
          "base_uri": "https://localhost:8080/",
          "height": 143
        },
        "outputId": "38a7d40c-8232-453d-ef0b-26edd37135af"
      },
      "outputs": [
        {
          "output_type": "execute_result",
          "data": {
            "text/plain": [
              "                                              Review  \\\n",
              "0  lethal games is an absolutely awful attempt at...   \n",
              "1  gulzar is at his best when he is telling such ...   \n",
              "2  i was completely mesmerized by lekin and espec...   \n",
              "\n",
              "                                        Review_token Sentiment  \n",
              "0  [lethal, game, absolut, aw, attempt, action, t...  Negative  \n",
              "1  [gulzar, best, tell, intriigu, stori, eas, per...  Positive  \n",
              "2  [complet, mesmer, lekin, especi, castl, dimpl,...  Positive  "
            ],
            "text/html": [
              "\n",
              "\n",
              "  <div id=\"df-6313ab83-4e76-4d4b-b16c-9ffa0689005f\">\n",
              "    <div class=\"colab-df-container\">\n",
              "      <div>\n",
              "<style scoped>\n",
              "    .dataframe tbody tr th:only-of-type {\n",
              "        vertical-align: middle;\n",
              "    }\n",
              "\n",
              "    .dataframe tbody tr th {\n",
              "        vertical-align: top;\n",
              "    }\n",
              "\n",
              "    .dataframe thead th {\n",
              "        text-align: right;\n",
              "    }\n",
              "</style>\n",
              "<table border=\"1\" class=\"dataframe\">\n",
              "  <thead>\n",
              "    <tr style=\"text-align: right;\">\n",
              "      <th></th>\n",
              "      <th>Review</th>\n",
              "      <th>Review_token</th>\n",
              "      <th>Sentiment</th>\n",
              "    </tr>\n",
              "  </thead>\n",
              "  <tbody>\n",
              "    <tr>\n",
              "      <th>0</th>\n",
              "      <td>lethal games is an absolutely awful attempt at...</td>\n",
              "      <td>[lethal, game, absolut, aw, attempt, action, t...</td>\n",
              "      <td>Negative</td>\n",
              "    </tr>\n",
              "    <tr>\n",
              "      <th>1</th>\n",
              "      <td>gulzar is at his best when he is telling such ...</td>\n",
              "      <td>[gulzar, best, tell, intriigu, stori, eas, per...</td>\n",
              "      <td>Positive</td>\n",
              "    </tr>\n",
              "    <tr>\n",
              "      <th>2</th>\n",
              "      <td>i was completely mesmerized by lekin and espec...</td>\n",
              "      <td>[complet, mesmer, lekin, especi, castl, dimpl,...</td>\n",
              "      <td>Positive</td>\n",
              "    </tr>\n",
              "  </tbody>\n",
              "</table>\n",
              "</div>\n",
              "      <button class=\"colab-df-convert\" onclick=\"convertToInteractive('df-6313ab83-4e76-4d4b-b16c-9ffa0689005f')\"\n",
              "              title=\"Convert this dataframe to an interactive table.\"\n",
              "              style=\"display:none;\">\n",
              "\n",
              "  <svg xmlns=\"http://www.w3.org/2000/svg\" height=\"24px\"viewBox=\"0 0 24 24\"\n",
              "       width=\"24px\">\n",
              "    <path d=\"M0 0h24v24H0V0z\" fill=\"none\"/>\n",
              "    <path d=\"M18.56 5.44l.94 2.06.94-2.06 2.06-.94-2.06-.94-.94-2.06-.94 2.06-2.06.94zm-11 1L8.5 8.5l.94-2.06 2.06-.94-2.06-.94L8.5 2.5l-.94 2.06-2.06.94zm10 10l.94 2.06.94-2.06 2.06-.94-2.06-.94-.94-2.06-.94 2.06-2.06.94z\"/><path d=\"M17.41 7.96l-1.37-1.37c-.4-.4-.92-.59-1.43-.59-.52 0-1.04.2-1.43.59L10.3 9.45l-7.72 7.72c-.78.78-.78 2.05 0 2.83L4 21.41c.39.39.9.59 1.41.59.51 0 1.02-.2 1.41-.59l7.78-7.78 2.81-2.81c.8-.78.8-2.07 0-2.86zM5.41 20L4 18.59l7.72-7.72 1.47 1.35L5.41 20z\"/>\n",
              "  </svg>\n",
              "      </button>\n",
              "\n",
              "\n",
              "\n",
              "    <div id=\"df-c77269d6-dab9-41d3-85db-e8c859c884a4\">\n",
              "      <button class=\"colab-df-quickchart\" onclick=\"quickchart('df-c77269d6-dab9-41d3-85db-e8c859c884a4')\"\n",
              "              title=\"Suggest charts.\"\n",
              "              style=\"display:none;\">\n",
              "\n",
              "<svg xmlns=\"http://www.w3.org/2000/svg\" height=\"24px\"viewBox=\"0 0 24 24\"\n",
              "     width=\"24px\">\n",
              "    <g>\n",
              "        <path d=\"M19 3H5c-1.1 0-2 .9-2 2v14c0 1.1.9 2 2 2h14c1.1 0 2-.9 2-2V5c0-1.1-.9-2-2-2zM9 17H7v-7h2v7zm4 0h-2V7h2v10zm4 0h-2v-4h2v4z\"/>\n",
              "    </g>\n",
              "</svg>\n",
              "      </button>\n",
              "    </div>\n",
              "\n",
              "<style>\n",
              "  .colab-df-quickchart {\n",
              "    background-color: #E8F0FE;\n",
              "    border: none;\n",
              "    border-radius: 50%;\n",
              "    cursor: pointer;\n",
              "    display: none;\n",
              "    fill: #1967D2;\n",
              "    height: 32px;\n",
              "    padding: 0 0 0 0;\n",
              "    width: 32px;\n",
              "  }\n",
              "\n",
              "  .colab-df-quickchart:hover {\n",
              "    background-color: #E2EBFA;\n",
              "    box-shadow: 0px 1px 2px rgba(60, 64, 67, 0.3), 0px 1px 3px 1px rgba(60, 64, 67, 0.15);\n",
              "    fill: #174EA6;\n",
              "  }\n",
              "\n",
              "  [theme=dark] .colab-df-quickchart {\n",
              "    background-color: #3B4455;\n",
              "    fill: #D2E3FC;\n",
              "  }\n",
              "\n",
              "  [theme=dark] .colab-df-quickchart:hover {\n",
              "    background-color: #434B5C;\n",
              "    box-shadow: 0px 1px 3px 1px rgba(0, 0, 0, 0.15);\n",
              "    filter: drop-shadow(0px 1px 2px rgba(0, 0, 0, 0.3));\n",
              "    fill: #FFFFFF;\n",
              "  }\n",
              "</style>\n",
              "\n",
              "    <script>\n",
              "      async function quickchart(key) {\n",
              "        const containerElement = document.querySelector('#' + key);\n",
              "        const charts = await google.colab.kernel.invokeFunction(\n",
              "            'suggestCharts', [key], {});\n",
              "      }\n",
              "    </script>\n",
              "\n",
              "      <script>\n",
              "\n",
              "function displayQuickchartButton(domScope) {\n",
              "  let quickchartButtonEl =\n",
              "    domScope.querySelector('#df-c77269d6-dab9-41d3-85db-e8c859c884a4 button.colab-df-quickchart');\n",
              "  quickchartButtonEl.style.display =\n",
              "    google.colab.kernel.accessAllowed ? 'block' : 'none';\n",
              "}\n",
              "\n",
              "        displayQuickchartButton(document);\n",
              "      </script>\n",
              "      <style>\n",
              "    .colab-df-container {\n",
              "      display:flex;\n",
              "      flex-wrap:wrap;\n",
              "      gap: 12px;\n",
              "    }\n",
              "\n",
              "    .colab-df-convert {\n",
              "      background-color: #E8F0FE;\n",
              "      border: none;\n",
              "      border-radius: 50%;\n",
              "      cursor: pointer;\n",
              "      display: none;\n",
              "      fill: #1967D2;\n",
              "      height: 32px;\n",
              "      padding: 0 0 0 0;\n",
              "      width: 32px;\n",
              "    }\n",
              "\n",
              "    .colab-df-convert:hover {\n",
              "      background-color: #E2EBFA;\n",
              "      box-shadow: 0px 1px 2px rgba(60, 64, 67, 0.3), 0px 1px 3px 1px rgba(60, 64, 67, 0.15);\n",
              "      fill: #174EA6;\n",
              "    }\n",
              "\n",
              "    [theme=dark] .colab-df-convert {\n",
              "      background-color: #3B4455;\n",
              "      fill: #D2E3FC;\n",
              "    }\n",
              "\n",
              "    [theme=dark] .colab-df-convert:hover {\n",
              "      background-color: #434B5C;\n",
              "      box-shadow: 0px 1px 3px 1px rgba(0, 0, 0, 0.15);\n",
              "      filter: drop-shadow(0px 1px 2px rgba(0, 0, 0, 0.3));\n",
              "      fill: #FFFFFF;\n",
              "    }\n",
              "  </style>\n",
              "\n",
              "      <script>\n",
              "        const buttonEl =\n",
              "          document.querySelector('#df-6313ab83-4e76-4d4b-b16c-9ffa0689005f button.colab-df-convert');\n",
              "        buttonEl.style.display =\n",
              "          google.colab.kernel.accessAllowed ? 'block' : 'none';\n",
              "\n",
              "        async function convertToInteractive(key) {\n",
              "          const element = document.querySelector('#df-6313ab83-4e76-4d4b-b16c-9ffa0689005f');\n",
              "          const dataTable =\n",
              "            await google.colab.kernel.invokeFunction('convertToInteractive',\n",
              "                                                     [key], {});\n",
              "          if (!dataTable) return;\n",
              "\n",
              "          const docLinkHtml = 'Like what you see? Visit the ' +\n",
              "            '<a target=\"_blank\" href=https://colab.research.google.com/notebooks/data_table.ipynb>data table notebook</a>'\n",
              "            + ' to learn more about interactive tables.';\n",
              "          element.innerHTML = '';\n",
              "          dataTable['output_type'] = 'display_data';\n",
              "          await google.colab.output.renderOutput(dataTable, element);\n",
              "          const docLink = document.createElement('div');\n",
              "          docLink.innerHTML = docLinkHtml;\n",
              "          element.appendChild(docLink);\n",
              "        }\n",
              "      </script>\n",
              "    </div>\n",
              "  </div>\n"
            ]
          },
          "metadata": {},
          "execution_count": 32
        }
      ],
      "source": [
        "selected_columns = imdb_data[['Review','Review_token','Sentiment']]\n",
        "selected_columns.head(3)"
      ]
    },
    {
      "cell_type": "markdown",
      "metadata": {
        "id": "5MhNun4za6f_"
      },
      "source": [
        "**Normalized train reviews**"
      ]
    },
    {
      "cell_type": "code",
      "execution_count": null,
      "metadata": {
        "colab": {
          "base_uri": "https://localhost:8080/"
        },
        "id": "VTMUlgsDnOtj",
        "outputId": "9391087d-435b-4a46-c25c-f77ad48977d6"
      },
      "outputs": [
        {
          "output_type": "execute_result",
          "data": {
            "text/plain": [
              "['lethal',\n",
              " 'game',\n",
              " 'absolut',\n",
              " 'aw',\n",
              " 'attempt',\n",
              " 'action',\n",
              " 'thriller',\n",
              " 'one',\n",
              " 'worst',\n",
              " 'ive',\n",
              " 'seen',\n",
              " 'direct',\n",
              " 'porn',\n",
              " 'director',\n",
              " 'john',\n",
              " 'bone',\n",
              " 'pseudonym',\n",
              " 'john',\n",
              " 'bowen',\n",
              " 'idea',\n",
              " 'qualiti',\n",
              " 'direct',\n",
              " 'alreadi',\n",
              " 'even',\n",
              " 'scriptwrit',\n",
              " 'daniel',\n",
              " 'benton',\n",
              " 'use',\n",
              " 'pseudonym',\n",
              " 'film',\n",
              " 'must',\n",
              " 'realli',\n",
              " 'proud',\n",
              " 'achievementsth',\n",
              " 'film',\n",
              " 'shot',\n",
              " 'sunni',\n",
              " 'california',\n",
              " 'look',\n",
              " 'like',\n",
              " 'home',\n",
              " 'camera',\n",
              " 'main',\n",
              " 'charact',\n",
              " 'play',\n",
              " 'frank',\n",
              " 'stallon',\n",
              " 'featur',\n",
              " 'promin',\n",
              " 'film',\n",
              " 'poster',\n",
              " 'not_bar',\n",
              " 'not_get',\n",
              " 'not_littl',\n",
              " 'not_screen',\n",
              " 'not_tim',\n",
              " 'not_main',\n",
              " 'not_charact',\n",
              " 'not_annoy',\n",
              " 'not_coupl',\n",
              " 'not_young',\n",
              " 'not_women',\n",
              " 'not_overact',\n",
              " 'not_lat',\n",
              " 'not_middleag',\n",
              " 'not_woman',\n",
              " 'not_discern',\n",
              " 'not_act',\n",
              " 'not_abilityth',\n",
              " 'not_bad',\n",
              " 'not_guy',\n",
              " 'not_group',\n",
              " 'not_psychopath',\n",
              " 'not_rapist',\n",
              " 'not_viol',\n",
              " 'not_misfit',\n",
              " 'not_seem',\n",
              " 'not_bas',\n",
              " 'not_on',\n",
              " 'not_motorbik',\n",
              " 'not_gang',\n",
              " 'not_mad',\n",
              " 'not_max',\n",
              " 'not_ther',\n",
              " 'not_plenti',\n",
              " 'not_act',\n",
              " 'not_non',\n",
              " 'not_good',\n",
              " 'not_bad',\n",
              " 'not_gun',\n",
              " 'not_battl',\n",
              " 'not_cheapli',\n",
              " 'not_stag',\n",
              " 'not_poss',\n",
              " 'not_qual',\n",
              " 'not_film',\n",
              " 'not_stock',\n",
              " 'not_poor',\n",
              " 'not_bar',\n",
              " 'not_mak',\n",
              " 'not_what',\n",
              " 'not_go',\n",
              " 'not_attempt',\n",
              " 'not_humour',\n",
              " 'not_ar',\n",
              " 'not_even',\n",
              " 'not_worth',\n",
              " 'not_ment',\n",
              " 'not_leth',\n",
              " 'not_gam',\n",
              " 'not_real',\n",
              " 'not_dog',\n",
              " 'not_film',\n",
              " 'not_despit',\n",
              " 'not_sit',\n",
              " 'not_countless',\n",
              " 'not_bmovi',\n",
              " 'not_everi',\n",
              " 'not_week',\n",
              " 'not_hav',\n",
              " 'not_seen',\n",
              " 'not_on',\n",
              " 'not_bad',\n",
              " 'not_long',\n",
              " 'not_tim']"
            ]
          },
          "metadata": {},
          "execution_count": 33
        }
      ],
      "source": [
        "norm_train_reviews=imdb_data.Review_token[:40000]\n",
        "norm_train_reviews[0]"
      ]
    },
    {
      "cell_type": "markdown",
      "metadata": {
        "id": "Wnu54JAJa6gB"
      },
      "source": [
        "**Normalized test reviews**"
      ]
    },
    {
      "cell_type": "code",
      "execution_count": null,
      "metadata": {
        "id": "072ogRhha6gB",
        "colab": {
          "base_uri": "https://localhost:8080/"
        },
        "outputId": "1cda05d3-5d41-47a6-9928-bc7ddebbece0"
      },
      "outputs": [
        {
          "output_type": "execute_result",
          "data": {
            "text/plain": [
              "['one',\n",
              " 'worst',\n",
              " 'movi',\n",
              " 'ive',\n",
              " 'ever',\n",
              " 'seen',\n",
              " 'kind',\n",
              " 'charact',\n",
              " 'pacino',\n",
              " 'portray',\n",
              " 'come',\n",
              " 'kind',\n",
              " 'dialogu',\n",
              " 'suggest',\n",
              " 'pacino',\n",
              " 'portray',\n",
              " 'charact',\n",
              " 'ridicul',\n",
              " 'manner',\n",
              " 'expect',\n",
              " 'kid',\n",
              " 'interrupt',\n",
              " 'pacino',\n",
              " 'blurt',\n",
              " 'talk',\n",
              " 'like',\n",
              " 'rememb',\n",
              " 'seinfeld',\n",
              " 'episod',\n",
              " 'mr',\n",
              " 'bookman',\n",
              " 'librari',\n",
              " 'cop',\n",
              " 'hilari',\n",
              " 'straightfac',\n",
              " 'parodi',\n",
              " 'seriou',\n",
              " 'jack',\n",
              " 'webb',\n",
              " 'dragnet',\n",
              " 'pacino',\n",
              " 'charact',\n",
              " 'act',\n",
              " 'like',\n",
              " 'smartass',\n",
              " 'lt',\n",
              " 'kojak',\n",
              " 'seriou',\n",
              " 'imperson',\n",
              " 'mr',\n",
              " 'bookman',\n",
              " 'ten',\n",
              " 'time',\n",
              " 'hoohaw',\n",
              " 'belch',\n",
              " 'pacino',\n",
              " 'averag',\n",
              " 'viewer',\n",
              " 'endur',\n",
              " 'point',\n",
              " 'movi',\n",
              " 'real',\n",
              " 'stori',\n",
              " 'pacino',\n",
              " 'serious',\n",
              " 'overr',\n",
              " 'movi',\n",
              " 'terribl']"
            ]
          },
          "metadata": {},
          "execution_count": 34
        }
      ],
      "source": [
        "norm_test_reviews=imdb_data.Review_token[40000:]\n",
        "norm_test_reviews[45005]"
      ]
    },
    {
      "cell_type": "markdown",
      "metadata": {
        "id": "fp8NHDKaa6gC"
      },
      "source": [
        "**Bags of words model: Converts  text documents to numerical vectors or bag of words**"
      ]
    },
    {
      "cell_type": "code",
      "execution_count": null,
      "metadata": {
        "id": "9vmu7yn1Fl_E"
      },
      "outputs": [],
      "source": [
        "# Convert elements to strings\n",
        "norm_train_reviews = [str(review) for review in norm_train_reviews]\n",
        "norm_test_reviews = [str(review) for review in norm_test_reviews]"
      ]
    },
    {
      "cell_type": "code",
      "execution_count": null,
      "metadata": {
        "id": "TkGgS4G2a6gC",
        "colab": {
          "base_uri": "https://localhost:8080/"
        },
        "outputId": "31b3eb5a-6bf0-4c56-e709-d9a5f35065a5"
      },
      "outputs": [
        {
          "output_type": "stream",
          "name": "stdout",
          "text": [
            "BOW_cv_train: (40000, 6325538)\n",
            "BOW_cv_test: (10000, 6325538)\n"
          ]
        }
      ],
      "source": [
        "# Count vectorizer for bag of words\n",
        "cv = CountVectorizer(min_df=0, max_df=1, binary=False, ngram_range=(1,3))\n",
        "\n",
        "# Transformed train reviews\n",
        "cv_train_reviews = cv.fit_transform(norm_train_reviews)\n",
        "\n",
        "# Transformed test reviews\n",
        "cv_test_reviews = cv.transform(norm_test_reviews)\n",
        "\n",
        "print('BOW_cv_train:', cv_train_reviews.shape)\n",
        "print('BOW_cv_test:', cv_test_reviews.shape)"
      ]
    },
    {
      "cell_type": "code",
      "execution_count": null,
      "metadata": {
        "id": "0OkbRKvOJHA-",
        "colab": {
          "base_uri": "https://localhost:8080/"
        },
        "outputId": "043085f4-e716-44bd-b2db-5ed621ce4255"
      },
      "outputs": [
        {
          "output_type": "stream",
          "name": "stdout",
          "text": [
            "  (1, 1898631)\t1\n",
            "  (1, 2363346)\t1\n",
            "  (1, 5271086)\t4\n",
            "  (1, 6307042)\t1\n",
            "  (1, 1680493)\t1\n",
            "  (1, 5181426)\t1\n",
            "  (1, 2488805)\t1\n",
            "  (1, 941748)\t1\n",
            "  (1, 1974358)\t1\n",
            "  (1, 5181461)\t1\n",
            "  (1, 1634402)\t2\n",
            "  (1, 5777227)\t1\n",
            "  (1, 1898632)\t1\n",
            "  (1, 1047465)\t1\n",
            "  (1, 4843558)\t1\n",
            "  (1, 1975779)\t1\n",
            "  (1, 579317)\t1\n",
            "  (1, 1989612)\t1\n",
            "  (1, 1986312)\t1\n",
            "  (1, 2363347)\t1\n",
            "  (1, 5646650)\t1\n",
            "  (1, 5271093)\t1\n",
            "  (1, 6307043)\t1\n",
            "  (1, 1989604)\t1\n",
            "  (1, 1948170)\t1\n",
            "  :\t:\n",
            "  (39999, 1009473)\t1\n",
            "  (39999, 2405648)\t1\n",
            "  (39999, 6171977)\t1\n",
            "  (39999, 4702131)\t1\n",
            "  (39999, 6142000)\t1\n",
            "  (39999, 1261955)\t1\n",
            "  (39999, 2183999)\t1\n",
            "  (39999, 5158986)\t1\n",
            "  (39999, 2038437)\t1\n",
            "  (39999, 945851)\t1\n",
            "  (39999, 2308452)\t1\n",
            "  (39999, 1076707)\t1\n",
            "  (39999, 1487399)\t1\n",
            "  (39999, 5598045)\t1\n",
            "  (39999, 5038573)\t1\n",
            "  (39999, 1427623)\t1\n",
            "  (39999, 6047541)\t1\n",
            "  (39999, 2124495)\t1\n",
            "  (39999, 1064449)\t1\n",
            "  (39999, 1152850)\t1\n",
            "  (39999, 723623)\t1\n",
            "  (39999, 5753511)\t1\n",
            "  (39999, 505954)\t1\n",
            "  (39999, 2121502)\t1\n",
            "  (39999, 4724133)\t1\n"
          ]
        }
      ],
      "source": [
        "print(cv_train_reviews)"
      ]
    },
    {
      "cell_type": "markdown",
      "metadata": {
        "id": "iMja0bNka6gD"
      },
      "source": [
        "**Term Frequency-Inverse Document Frequency model (TFIDF): Converts text documents to matrix of tfidf features**"
      ]
    },
    {
      "cell_type": "code",
      "execution_count": null,
      "metadata": {
        "id": "PP4W4b9na6gD",
        "colab": {
          "base_uri": "https://localhost:8080/"
        },
        "outputId": "23d72eff-cd43-4914-92de-de00624b77e0"
      },
      "outputs": [
        {
          "output_type": "stream",
          "name": "stdout",
          "text": [
            "Tfidf_train: (40000, 6325538)\n",
            "Tfidf_test: (10000, 6325538)\n"
          ]
        }
      ],
      "source": [
        "from sklearn.feature_extraction.text import TfidfVectorizer\n",
        "\n",
        "#Tfidf vectorizer\n",
        "tv=TfidfVectorizer(min_df=0,max_df=1,use_idf=True,ngram_range=(1,3))\n",
        "#transformed train reviews\n",
        "tv_train_reviews=tv.fit_transform(norm_train_reviews)\n",
        "#transformed test reviews\n",
        "tv_test_reviews=tv.transform(norm_test_reviews)\n",
        "print('Tfidf_train:',tv_train_reviews.shape)\n",
        "print('Tfidf_test:',tv_test_reviews.shape)"
      ]
    },
    {
      "cell_type": "markdown",
      "metadata": {
        "id": "925pop-Ta6gE"
      },
      "source": [
        "**Labeling and splitting the sentiment data**"
      ]
    },
    {
      "cell_type": "code",
      "execution_count": null,
      "metadata": {
        "id": "jf3H129ka6gE",
        "colab": {
          "base_uri": "https://localhost:8080/"
        },
        "outputId": "d33a2a49-9047-410b-c9bd-6632812c0801"
      },
      "outputs": [
        {
          "output_type": "stream",
          "name": "stdout",
          "text": [
            "(50000, 1)\n"
          ]
        }
      ],
      "source": [
        "import numpy as np\n",
        "from sklearn.preprocessing import LabelBinarizer, LabelEncoder\n",
        "\n",
        "lb = LabelBinarizer()\n",
        "label_encoder = LabelEncoder()\n",
        "\n",
        "# Encode string labels into numeric values\n",
        "encoded_sentiment = label_encoder.fit_transform(imdb_data['Sentiment'])\n",
        "sentiment_data = lb.fit_transform(np.where(encoded_sentiment > 0, 1, 0))\n",
        "print(sentiment_data.shape)"
      ]
    },
    {
      "cell_type": "code",
      "execution_count": null,
      "metadata": {
        "id": "q8bXFFh6a6gF",
        "colab": {
          "base_uri": "https://localhost:8080/"
        },
        "outputId": "84e95941-0cd3-4f56-8afd-52b147c2223a"
      },
      "outputs": [
        {
          "output_type": "stream",
          "name": "stdout",
          "text": [
            "[[0]\n",
            " [1]\n",
            " [1]\n",
            " ...\n",
            " [1]\n",
            " [1]\n",
            " [1]]\n",
            "[[1]\n",
            " [1]\n",
            " [1]\n",
            " ...\n",
            " [1]\n",
            " [1]\n",
            " [1]]\n"
          ]
        }
      ],
      "source": [
        "#Spliting the sentiment data\n",
        "train_sentiments=sentiment_data[:40000]\n",
        "test_sentiments=sentiment_data[40000:]\n",
        "print(train_sentiments)\n",
        "print(test_sentiments)"
      ]
    },
    {
      "cell_type": "markdown",
      "metadata": {
        "id": "ZhMQcBpya6gF"
      },
      "source": [
        "# **Fitting the Machine Learning Models**"
      ]
    },
    {
      "cell_type": "markdown",
      "metadata": {
        "id": "aTfM9H1za6gG"
      },
      "source": [
        "**Logistic Regression**"
      ]
    },
    {
      "cell_type": "code",
      "source": [
        "from sklearn.linear_model import LogisticRegression\n",
        "from sklearn.metrics import accuracy_score\n",
        "\n",
        "# Create a logistic regression model with L2 regularization (ridge)\n",
        "alpha = 0.1  # Regularization strength (smaller values mean stronger regularization)\n",
        "logreg_model = LogisticRegression(penalty='l2', C=1/alpha)\n",
        "\n",
        "# Train the model\n",
        "logreg_model.fit(cv_train_reviews, train_sentiments)\n",
        "\n",
        "# Make predictions on the test set\n",
        "y_pred_logreg = logreg_model.predict(cv_test_reviews)\n",
        "\n",
        "# Calculate accuracy on the test set\n",
        "accuracy_logreg = accuracy_score(test_sentiments, y_pred_logreg)\n",
        "print(f\"Accuracy on Test Set (Logistic Regression): {accuracy_logreg:.2f}\")\n",
        "\n",
        "# Check the accuracy on the training set (this can be an indicator of overfitting)\n",
        "y_pred_train = logreg_model.predict(cv_train_reviews)\n",
        "accuracy_train = accuracy_score(train_sentiments, y_pred_train)\n",
        "print(f\"Accuracy on Training Set (Logistic Regression): {accuracy_train:.2f}\")\n",
        "\n",
        "# Implement early stopping to reduce overfitting\n",
        "best_accuracy = 0.0\n",
        "best_model = None\n",
        "for epoch in range(100):\n",
        "    logreg_model.fit(cv_train_reviews, train_sentiments)\n",
        "    y_pred_val = logreg_model.predict(cv_test_reviews)\n",
        "    accuracy_val = accuracy_score(test_sentiments, y_pred_val)\n",
        "\n",
        "    if accuracy_val > best_accuracy:\n",
        "        best_accuracy = accuracy_val\n",
        "        best_model = logreg_model\n",
        "    else:\n",
        "        # If accuracy doesn't improve for a certain number of epochs, stop training\n",
        "        print(f\"Stopping training after epoch {epoch}\")\n",
        "        break\n",
        "\n",
        "# Make predictions using the best model found during early stopping\n",
        "y_pred_final = best_model.predict(cv_test_reviews)\n",
        "accuracy_final = accuracy_score(test_sentiments, y_pred_final)\n",
        "print(f\"Accuracy on Test Set (Logistic Regression with Early Stopping): {accuracy_final:.2f}\")\n"
      ],
      "metadata": {
        "colab": {
          "base_uri": "https://localhost:8080/"
        },
        "id": "mNrZLUH2CCMx",
        "outputId": "d7eaa719-7051-43fc-cea8-1f2094bd8036"
      },
      "execution_count": null,
      "outputs": [
        {
          "output_type": "stream",
          "name": "stdout",
          "text": [
            "Accuracy on Test Set (Logistic Regression): 0.79\n",
            "Accuracy on Training Set (Logistic Regression): 1.00\n",
            "Stopping training after epoch 1\n",
            "Accuracy on Test Set (Logistic Regression with Early Stopping): 0.79\n"
          ]
        }
      ]
    },
    {
      "cell_type": "code",
      "execution_count": null,
      "metadata": {
        "id": "HJY0o-8Fa6gG",
        "colab": {
          "base_uri": "https://localhost:8080/"
        },
        "outputId": "a8b8370b-bfc0-44c8-f687-c411676ea0e8"
      },
      "outputs": [
        {
          "output_type": "stream",
          "name": "stdout",
          "text": [
            "LogisticRegression(C=1, max_iter=500, random_state=42)\n",
            "LogisticRegression(C=1, max_iter=500, random_state=42)\n"
          ]
        }
      ],
      "source": [
        "from sklearn.linear_model import LogisticRegression,SGDClassifier\n",
        "\n",
        "#training the model\n",
        "lr=LogisticRegression(penalty='l2',max_iter=500,C=1,random_state=42)\n",
        "#Fitting the model for Bag of words\n",
        "lr_bow=lr.fit(cv_train_reviews,train_sentiments)\n",
        "print(lr_bow)\n",
        "#Fitting the model for tfidf features\n",
        "lr_tfidf=lr.fit(tv_train_reviews,train_sentiments)\n",
        "print(lr_tfidf)"
      ]
    },
    {
      "cell_type": "code",
      "execution_count": null,
      "metadata": {
        "id": "xh8_hJq-r6XZ",
        "colab": {
          "base_uri": "https://localhost:8080/"
        },
        "outputId": "e58f0e7e-ce28-4b53-c32b-e4ec57a6a33b"
      },
      "outputs": [
        {
          "output_type": "stream",
          "name": "stdout",
          "text": [
            "[1 1 1 ... 1 1 1]\n",
            "[1 1 1 ... 1 1 1]\n"
          ]
        }
      ],
      "source": [
        "#Predicting the model for bag of words\n",
        "lr_bow_predict=lr.predict(cv_test_reviews)\n",
        "print(lr_bow_predict)\n",
        "##Predicting the model for tfidf features\n",
        "lr_tfidf_predict=lr.predict(tv_test_reviews)\n",
        "print(lr_tfidf_predict)"
      ]
    },
    {
      "cell_type": "code",
      "execution_count": null,
      "metadata": {
        "id": "2oI7rnrAa6gV",
        "colab": {
          "base_uri": "https://localhost:8080/"
        },
        "outputId": "e84db757-2f3b-4278-83d2-c6fe832f6b73"
      },
      "outputs": [
        {
          "output_type": "stream",
          "name": "stdout",
          "text": [
            "lr_bow_train_score: 0.997775\n",
            "lr_tfidf_train_score: 0.804675\n",
            "lr_bow_test_score: 0.7898\n",
            "lr_tfidf_test_score: 0.784\n"
          ]
        }
      ],
      "source": [
        "from sklearn.metrics import classification_report,confusion_matrix,accuracy_score\n",
        "\n",
        "# Accuracy score for bag of words - training data\n",
        "lr_bow_train_score = accuracy_score(train_sentiments, lr_bow.predict(cv_train_reviews))\n",
        "print(\"lr_bow_train_score:\", lr_bow_train_score)\n",
        "\n",
        "# Accuracy score for tfidf features - training data\n",
        "lr_tfidf_train_score = accuracy_score(train_sentiments, lr_tfidf.predict(tv_train_reviews))\n",
        "print(\"lr_tfidf_train_score:\", lr_tfidf_train_score)\n",
        "\n",
        "# Accuracy score for bag of words - testing data\n",
        "lr_bow_test_score = accuracy_score(test_sentiments, lr_bow_predict)\n",
        "print(\"lr_bow_test_score:\", lr_bow_test_score)\n",
        "\n",
        "# Accuracy score for tfidf features - testing data\n",
        "lr_tfidf_test_score = accuracy_score(test_sentiments, lr_tfidf_predict)\n",
        "print(\"lr_tfidf_test_score:\", lr_tfidf_test_score)"
      ]
    },
    {
      "cell_type": "code",
      "execution_count": null,
      "metadata": {
        "id": "xretoYv-ZVZw",
        "colab": {
          "base_uri": "https://localhost:8080/"
        },
        "outputId": "05b68532-9611-4cac-8a5d-8f2425386a61"
      },
      "outputs": [
        {
          "output_type": "stream",
          "name": "stdout",
          "text": [
            "              precision    recall  f1-score   support\n",
            "\n",
            "    Positive       1.00      0.03      0.05      2160\n",
            "    Negative       0.79      1.00      0.88      7840\n",
            "\n",
            "    accuracy                           0.79     10000\n",
            "   macro avg       0.89      0.51      0.47     10000\n",
            "weighted avg       0.83      0.79      0.70     10000\n",
            "\n",
            "              precision    recall  f1-score   support\n",
            "\n",
            "    Positive       0.00      0.00      0.00      2160\n",
            "    Negative       0.78      1.00      0.88      7840\n",
            "\n",
            "    accuracy                           0.78     10000\n",
            "   macro avg       0.39      0.50      0.44     10000\n",
            "weighted avg       0.61      0.78      0.69     10000\n",
            "\n"
          ]
        }
      ],
      "source": [
        "#Classification report for bag of words\n",
        "lr_bow_report=classification_report(test_sentiments,lr_bow_predict,target_names=['Positive','Negative'])\n",
        "print(lr_bow_report)\n",
        "#Classification report for tfidf features\n",
        "lr_tfidf_report=classification_report(test_sentiments,lr_tfidf_predict,target_names=['Positive','Negative'])\n",
        "print(lr_tfidf_report)"
      ]
    },
    {
      "cell_type": "code",
      "execution_count": null,
      "metadata": {
        "id": "mUBZHi1WZ967",
        "colab": {
          "base_uri": "https://localhost:8080/"
        },
        "outputId": "45f0c250-aaa4-4f4d-c333-6fb3e4a10a2a"
      },
      "outputs": [
        {
          "output_type": "stream",
          "name": "stdout",
          "text": [
            "[[7840    0]\n",
            " [2102   58]]\n",
            "[[7840    0]\n",
            " [2160    0]]\n"
          ]
        }
      ],
      "source": [
        "#confusion matrix for bag of words\n",
        "cm_bow=confusion_matrix(test_sentiments,lr_bow_predict,labels=[1,0])\n",
        "print(cm_bow)\n",
        "#confusion matrix for tfidf features\n",
        "cm_tfidf=confusion_matrix(test_sentiments,lr_tfidf_predict,labels=[1,0])\n",
        "print(cm_tfidf)"
      ]
    },
    {
      "cell_type": "markdown",
      "metadata": {
        "id": "hm8obMpqa6gY"
      },
      "source": [
        "**Linear support vector machines**"
      ]
    },
    {
      "cell_type": "code",
      "execution_count": null,
      "metadata": {
        "id": "4KkTb5Uaa6gY",
        "colab": {
          "base_uri": "https://localhost:8080/"
        },
        "outputId": "ebf5441e-e640-46f8-97ce-8074f3747d00"
      },
      "outputs": [
        {
          "output_type": "stream",
          "name": "stdout",
          "text": [
            "SGDClassifier(max_iter=500, random_state=42)\n",
            "SGDClassifier(max_iter=500, random_state=42)\n"
          ]
        }
      ],
      "source": [
        "#training the linear svm\n",
        "svm=SGDClassifier(loss='hinge',max_iter=500,random_state=42)\n",
        "#fitting the svm for bag of words\n",
        "svm_bow=svm.fit(cv_train_reviews,train_sentiments)\n",
        "print(svm_bow)\n",
        "#fitting the svm for tfidf features\n",
        "svm_tfidf=svm.fit(tv_train_reviews,train_sentiments)\n",
        "print(svm_tfidf)"
      ]
    },
    {
      "cell_type": "code",
      "execution_count": null,
      "metadata": {
        "id": "EDbHesIxa6gZ",
        "colab": {
          "base_uri": "https://localhost:8080/"
        },
        "outputId": "cc477670-e505-4b29-f8c8-e84a30f23856"
      },
      "outputs": [
        {
          "output_type": "stream",
          "name": "stdout",
          "text": [
            "[1 1 1 ... 1 1 1]\n",
            "[1 1 1 ... 1 1 1]\n"
          ]
        }
      ],
      "source": [
        "#Predicting the model for bag of words\n",
        "svm_bow_predict=svm.predict(cv_test_reviews)\n",
        "print(svm_bow_predict)\n",
        "#Predicting the model for tfidf features\n",
        "svm_tfidf_predict=svm.predict(tv_test_reviews)\n",
        "print(svm_tfidf_predict)"
      ]
    },
    {
      "cell_type": "code",
      "execution_count": null,
      "metadata": {
        "id": "Xyq84Gbt3_3d",
        "colab": {
          "base_uri": "https://localhost:8080/"
        },
        "outputId": "19f70c25-6976-4989-92d4-26b4afb38516"
      },
      "outputs": [
        {
          "output_type": "stream",
          "name": "stdout",
          "text": [
            "svm_bow_train_score: 0.9932\n",
            "svm_tfidf_train_score: 0.804675\n",
            "svm_bow_test_score: 0.7897\n",
            "svm_tfidf_test_score: 0.784\n"
          ]
        }
      ],
      "source": [
        "# Accuracy score for bag of words - training data\n",
        "svm_bow_train_score = accuracy_score(train_sentiments, svm_bow.predict(cv_train_reviews))\n",
        "print(\"svm_bow_train_score:\", svm_bow_train_score)\n",
        "\n",
        "# Accuracy score for tfidf features - training data\n",
        "svm_tfidf_train_score = accuracy_score(train_sentiments, svm_tfidf.predict(tv_train_reviews))\n",
        "print(\"svm_tfidf_train_score:\", svm_tfidf_train_score)\n",
        "\n",
        "# Accuracy score for bag of words - testing data\n",
        "svm_bow_test_score = accuracy_score(test_sentiments, svm_bow_predict)\n",
        "print(\"svm_bow_test_score:\", svm_bow_test_score)\n",
        "\n",
        "# Accuracy score for tfidf features - testing data\n",
        "svm_tfidf_test_score = accuracy_score(test_sentiments, svm_tfidf_predict)\n",
        "print(\"svm_tfidf_test_score:\", svm_tfidf_test_score)"
      ]
    },
    {
      "cell_type": "code",
      "execution_count": null,
      "metadata": {
        "id": "RXcd3TijTKN-",
        "colab": {
          "base_uri": "https://localhost:8080/"
        },
        "outputId": "07b5e884-1680-46fc-df7c-42cb783f1717"
      },
      "outputs": [
        {
          "output_type": "stream",
          "name": "stdout",
          "text": [
            "              precision    recall  f1-score   support\n",
            "\n",
            "    Positive       1.00      0.03      0.05      2160\n",
            "    Negative       0.79      1.00      0.88      7840\n",
            "\n",
            "    accuracy                           0.79     10000\n",
            "   macro avg       0.89      0.51      0.47     10000\n",
            "weighted avg       0.83      0.79      0.70     10000\n",
            "\n",
            "              precision    recall  f1-score   support\n",
            "\n",
            "    Positive       0.00      0.00      0.00      2160\n",
            "    Negative       0.78      1.00      0.88      7840\n",
            "\n",
            "    accuracy                           0.78     10000\n",
            "   macro avg       0.39      0.50      0.44     10000\n",
            "weighted avg       0.61      0.78      0.69     10000\n",
            "\n"
          ]
        }
      ],
      "source": [
        "#Classification report for bag of words\n",
        "svm_bow_report=classification_report(test_sentiments,svm_bow_predict,target_names=['Positive','Negative'])\n",
        "print(svm_bow_report)\n",
        "#Classification report for tfidf features\n",
        "svm_tfidf_report=classification_report(test_sentiments,svm_tfidf_predict,target_names=['Positive','Negative'])\n",
        "print(svm_tfidf_report)"
      ]
    },
    {
      "cell_type": "code",
      "execution_count": null,
      "metadata": {
        "id": "VOPw-_WKa6ga",
        "colab": {
          "base_uri": "https://localhost:8080/"
        },
        "outputId": "0d064107-298a-43ae-8f81-fdc86ef71a82"
      },
      "outputs": [
        {
          "output_type": "stream",
          "name": "stdout",
          "text": [
            "[[7840    0]\n",
            " [2103   57]]\n",
            "[[7840    0]\n",
            " [2160    0]]\n"
          ]
        }
      ],
      "source": [
        "#confusion matrix for bag of words\n",
        "cm_bow=confusion_matrix(test_sentiments,svm_bow_predict,labels=[1,0])\n",
        "print(cm_bow)\n",
        "#confusion matrix for tfidf features\n",
        "cm_tfidf=confusion_matrix(test_sentiments,svm_tfidf_predict,labels=[1,0])\n",
        "print(cm_tfidf)"
      ]
    },
    {
      "cell_type": "markdown",
      "metadata": {
        "id": "0Zjzzi2ga6gb"
      },
      "source": [
        "**Multinomial Naive Bayes Classifier**"
      ]
    },
    {
      "cell_type": "code",
      "execution_count": null,
      "metadata": {
        "id": "FX-0-w6wa6gc",
        "colab": {
          "base_uri": "https://localhost:8080/"
        },
        "outputId": "a296ed26-bd08-42d1-fc36-e03a1a15b075"
      },
      "outputs": [
        {
          "output_type": "stream",
          "name": "stdout",
          "text": [
            "MultinomialNB()\n",
            "MultinomialNB()\n"
          ]
        }
      ],
      "source": [
        "#training the model\n",
        "mnb=MultinomialNB()\n",
        "#fitting the svm for bag of words\n",
        "mnb_bow=mnb.fit(cv_train_reviews,train_sentiments)\n",
        "print(mnb_bow)\n",
        "#fitting the svm for tfidf features\n",
        "mnb_tfidf=mnb.fit(tv_train_reviews,train_sentiments)\n",
        "print(mnb_tfidf)"
      ]
    },
    {
      "cell_type": "code",
      "execution_count": null,
      "metadata": {
        "id": "AYP0pOAsa6gc",
        "colab": {
          "base_uri": "https://localhost:8080/"
        },
        "outputId": "a023c6dc-3426-466e-aeba-709f9ff72308"
      },
      "outputs": [
        {
          "output_type": "stream",
          "name": "stdout",
          "text": [
            "[1 1 1 ... 1 1 1]\n",
            "[1 1 1 ... 1 1 1]\n"
          ]
        }
      ],
      "source": [
        "#Predicting the model for bag of words\n",
        "mnb_bow_predict=mnb.predict(cv_test_reviews)\n",
        "print(mnb_bow_predict)\n",
        "#Predicting the model for tfidf features\n",
        "mnb_tfidf_predict=mnb.predict(tv_test_reviews)\n",
        "print(mnb_tfidf_predict)"
      ]
    },
    {
      "cell_type": "code",
      "execution_count": null,
      "metadata": {
        "id": "euCDJhcka6gd",
        "colab": {
          "base_uri": "https://localhost:8080/"
        },
        "outputId": "fc9d3f53-cba9-4bfb-b9ff-96f22bbe041e"
      },
      "outputs": [
        {
          "output_type": "stream",
          "name": "stdout",
          "text": [
            "mnb_bow_train_score: 0.98135\n",
            "mnb_tfidf_train_score: 0.899725\n",
            "mnb_bow_test_score: 0.7896\n",
            "mnb_tfidf_test_score: 0.7861\n"
          ]
        }
      ],
      "source": [
        "# Accuracy score for bag of words - training data\n",
        "mnb_bow_train_score = accuracy_score(train_sentiments, mnb_bow.predict(cv_train_reviews))\n",
        "print(\"mnb_bow_train_score:\", mnb_bow_train_score)\n",
        "\n",
        "# Accuracy score for tfidf features - training data\n",
        "mnb_tfidf_train_score = accuracy_score(train_sentiments, mnb_tfidf.predict(tv_train_reviews))\n",
        "print(\"mnb_tfidf_train_score:\", mnb_tfidf_train_score)\n",
        "\n",
        "# Accuracy score for bag of words - testing data\n",
        "mnb_bow_test_score = accuracy_score(test_sentiments, mnb_bow_predict)\n",
        "print(\"mnb_bow_test_score:\", mnb_bow_test_score)\n",
        "\n",
        "# Accuracy score for tfidf features - testing data\n",
        "mnb_tfidf_test_score = accuracy_score(test_sentiments, mnb_tfidf_predict)\n",
        "print(\"mnb_tfidf_test_score:\", mnb_tfidf_test_score)"
      ]
    },
    {
      "cell_type": "code",
      "execution_count": null,
      "metadata": {
        "id": "80Y4SXnIa6ge",
        "colab": {
          "base_uri": "https://localhost:8080/"
        },
        "outputId": "b7920531-9f2a-406c-d047-4aa45a7c1f8e"
      },
      "outputs": [
        {
          "output_type": "stream",
          "name": "stdout",
          "text": [
            "              precision    recall  f1-score   support\n",
            "\n",
            "    Positive       0.84      0.03      0.06      2160\n",
            "    Negative       0.79      1.00      0.88      7840\n",
            "\n",
            "    accuracy                           0.79     10000\n",
            "   macro avg       0.82      0.52      0.47     10000\n",
            "weighted avg       0.80      0.79      0.70     10000\n",
            "\n",
            "              precision    recall  f1-score   support\n",
            "\n",
            "    Positive       1.00      0.01      0.02      2160\n",
            "    Negative       0.79      1.00      0.88      7840\n",
            "\n",
            "    accuracy                           0.79     10000\n",
            "   macro avg       0.89      0.50      0.45     10000\n",
            "weighted avg       0.83      0.79      0.69     10000\n",
            "\n"
          ]
        }
      ],
      "source": [
        "#Classification report for bag of words\n",
        "mnb_bow_report=classification_report(test_sentiments,mnb_bow_predict,target_names=['Positive','Negative'])\n",
        "print(mnb_bow_report)\n",
        "#Classification report for tfidf features\n",
        "mnb_tfidf_report=classification_report(test_sentiments,mnb_tfidf_predict,target_names=['Positive','Negative'])\n",
        "print(mnb_tfidf_report)"
      ]
    },
    {
      "cell_type": "code",
      "execution_count": null,
      "metadata": {
        "id": "NEKrVzloa6gg",
        "colab": {
          "base_uri": "https://localhost:8080/"
        },
        "outputId": "33cc20f3-ac30-473e-a502-f617e0243227"
      },
      "outputs": [
        {
          "output_type": "stream",
          "name": "stdout",
          "text": [
            "[[7827   13]\n",
            " [2091   69]]\n",
            "[[7840    0]\n",
            " [2139   21]]\n"
          ]
        }
      ],
      "source": [
        "#confusion matrix for bag of words\n",
        "cm_bow=confusion_matrix(test_sentiments,mnb_bow_predict,labels=[1,0])\n",
        "print(cm_bow)\n",
        "#confusion matrix for tfidf features\n",
        "cm_tfidf=confusion_matrix(test_sentiments,mnb_tfidf_predict,labels=[1,0])\n",
        "print(cm_tfidf)"
      ]
    },
    {
      "cell_type": "markdown",
      "metadata": {
        "id": "Lt1mX4Hva6gh"
      },
      "source": [
        "**Model Comparison**"
      ]
    },
    {
      "cell_type": "code",
      "execution_count": null,
      "metadata": {
        "id": "mwYNZy4ya6gj",
        "colab": {
          "base_uri": "https://localhost:8080/",
          "height": 671
        },
        "outputId": "8d2c3794-3323-4aa1-dc9d-38e1fdfa2cb9"
      },
      "outputs": [
        {
          "output_type": "stream",
          "name": "stdout",
          "text": [
            "The accuracy score achieved using Logistic Regression on training data is: 0.997775 %\n",
            "The accuracy score achieved using Logistic Regression on testing data is: 0.7898 %\n",
            "\n",
            "The accuracy score achieved using Support Vector Machine on training data is: 0.9932 %\n",
            "The accuracy score achieved using Support Vector Machine on testing data is: 0.7897 %\n",
            "\n",
            "The accuracy score achieved using Naive Bayes on training data is: 0.98135 %\n",
            "The accuracy score achieved using Naive Bayes on testing data is: 0.7896 %\n",
            "\n"
          ]
        },
        {
          "output_type": "display_data",
          "data": {
            "text/plain": [
              "<Figure size 1500x800 with 2 Axes>"
            ],
            "image/png": "[encoded data removed]"
          },
          "metadata": {}
        }
      ],
      "source": [
        "# Accuracy scores for training data\n",
        "train_scores = [lr_bow_train_score, svm_bow_train_score, mnb_bow_train_score]\n",
        "# Accuracy scores for testing data\n",
        "test_scores = [lr_bow_test_score, svm_bow_test_score, mnb_bow_test_score]\n",
        "algorithms = [\"Logistic Regression\", \"Support Vector Machine\", \"Naive Bayes\"]\n",
        "\n",
        "for i in range(len(algorithms)):\n",
        "    print(\"The accuracy score achieved using \" + algorithms[i] + \" on training data is: \" + str(train_scores[i]) + \" %\")\n",
        "    print(\"The accuracy score achieved using \" + algorithms[i] + \" on testing data is: \" + str(test_scores[i]) + \" %\")\n",
        "    print()\n",
        "\n",
        "sns.set(rc={'figure.figsize': (15, 8)})\n",
        "plt.xlabel(\"Algorithms\")\n",
        "plt.ylabel(\"Accuracy score\")\n",
        "\n",
        "# Plotting separate bar plots for training and testing scores\n",
        "plt.subplot(2, 1, 1)\n",
        "ax1 = sns.barplot(x=algorithms, y=train_scores)\n",
        "plt.title(\"Accuracy Scores - Training Data\")\n",
        "plt.xlabel(\"Algorithms\")\n",
        "plt.ylabel(\"Accuracy score\")\n",
        "\n",
        "# Adding percentage labels to the training bar plot\n",
        "for i, v in enumerate(train_scores):\n",
        "    ax1.text(i, v, f\"{v:.2%}\", ha='center', va='bottom', fontsize=8)\n",
        "\n",
        "plt.subplot(2, 1, 2)\n",
        "ax2 = sns.barplot(x=algorithms, y=test_scores)\n",
        "plt.title(\"Accuracy Scores - Testing Data\")\n",
        "plt.xlabel(\"Algorithms\")\n",
        "plt.ylabel(\"Accuracy score\")\n",
        "\n",
        "# Adding percentage labels to the testing bar plot\n",
        "for i, v in enumerate(test_scores):\n",
        "    ax2.text(i, v, f\"{v:.2%}\", ha='center', va='bottom', fontsize=8)\n",
        "\n",
        "plt.tight_layout()\n",
        "plt.show()"
      ]
    },
    {
      "cell_type": "code",
      "execution_count": null,
      "metadata": {
        "id": "w-L_R0kla6gl",
        "colab": {
          "base_uri": "https://localhost:8080/",
          "height": 671
        },
        "outputId": "088f514f-5837-4d4e-9868-dcc7ac39b6d1"
      },
      "outputs": [
        {
          "output_type": "stream",
          "name": "stdout",
          "text": [
            "The accuracy score achieved using Logistic Regression on training data is: 0.804675 %\n",
            "The accuracy score achieved using Logistic Regression on testing data is: 0.784 %\n",
            "\n",
            "The accuracy score achieved using Support Vector Machine on training data is: 0.804675 %\n",
            "The accuracy score achieved using Support Vector Machine on testing data is: 0.784 %\n",
            "\n",
            "The accuracy score achieved using Naive Bayes on training data is: 0.899725 %\n",
            "The accuracy score achieved using Naive Bayes on testing data is: 0.7861 %\n",
            "\n"
          ]
        },
        {
          "output_type": "display_data",
          "data": {
            "text/plain": [
              "<Figure size 1500x800 with 2 Axes>"
            ],
            "image/png": "[encoded data removed]"
          },
          "metadata": {}
        }
      ],
      "source": [
        "# Accuracy scores for training data\n",
        "train_scores1 = [lr_tfidf_train_score, svm_tfidf_train_score, mnb_tfidf_train_score]\n",
        "# Accuracy scores for testing data\n",
        "test_scores1 = [lr_tfidf_test_score, svm_tfidf_test_score, mnb_tfidf_test_score]\n",
        "algorithms1 = [\"Logistic Regression\", \"Support Vector Machine\", \"Naive Bayes\"]\n",
        "\n",
        "for i in range(len(algorithms1)):\n",
        "    print(\"The accuracy score achieved using \" + algorithms1[i] + \" on training data is: \" + str(train_scores1[i]) + \" %\")\n",
        "    print(\"The accuracy score achieved using \" + algorithms1[i] + \" on testing data is: \" + str(test_scores1[i]) + \" %\")\n",
        "    print()\n",
        "\n",
        "colors = [\"#1f77b4\", \"#ff7f0e\", \"#2ca02c\"]  # Specify colors for each algorithm\n",
        "\n",
        "plt.figure(figsize=(15, 8))\n",
        "plt.xlabel(\"Algorithms\")\n",
        "plt.ylabel(\"Accuracy score\")\n",
        "\n",
        "# Plotting separate bar plots for training and testing scores\n",
        "plt.subplot(2, 1, 1)\n",
        "plt.bar(algorithms1, train_scores1, color=colors)\n",
        "plt.title(\"Accuracy Scores - Training Data\")\n",
        "plt.xlabel(\"Algorithms\")\n",
        "plt.ylabel(\"Accuracy score\")\n",
        "\n",
        "# Adding percentage labels to the training bar plot\n",
        "for i, v in enumerate(train_scores1):\n",
        "    plt.text(i, v, f\"{v:.2%}\", ha='center', va='bottom', fontsize=8)\n",
        "\n",
        "plt.subplot(2, 1, 2)\n",
        "plt.bar(algorithms1, test_scores1, color=colors)\n",
        "plt.title(\"Accuracy Scores - Testing Data\")\n",
        "plt.xlabel(\"Algorithms\")\n",
        "plt.ylabel(\"Accuracy score\")\n",
        "\n",
        "# Adding percentage labels to the testing bar plot\n",
        "for i, v in enumerate(test_scores1):\n",
        "    plt.text(i, v, f\"{v:.2%}\", ha='center', va='bottom', fontsize=8)\n",
        "\n",
        "plt.tight_layout()\n",
        "plt.show()\n"
      ]
    },
    {
      "cell_type": "markdown",
      "metadata": {
        "id": "9qHX954ca6gm"
      },
      "source": [
        "**Conclusion:\n",
        "        We can observe that both Logistic Regression and Multinomial Naive Bayes model are performing well when compared to Linear Support Vector Machines.**"
      ]
    }
  ],
  "metadata": {
    "colab": {
      "provenance": []
    },
    "kernelspec": {
      "display_name": "Python 3",
      "name": "python3"
    },
    "language_info": {
      "name": "python"
    }
  },
  "nbformat": 4,
  "nbformat_minor": 0
}